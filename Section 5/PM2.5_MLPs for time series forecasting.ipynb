{
 "cells": [
  {
   "cell_type": "code",
   "execution_count": 1,
   "metadata": {
    "collapsed": true
   },
   "outputs": [],
   "source": [
    "from __future__ import print_function\n",
    "import os\n",
    "import sys\n",
    "import pandas as pd\n",
    "import numpy as np\n",
    "%matplotlib inline\n",
    "from matplotlib import pyplot as plt\n",
    "import seaborn as sns\n",
    "import datetime"
   ]
  },
  {
   "cell_type": "code",
   "execution_count": 2,
   "metadata": {
    "collapsed": true
   },
   "outputs": [],
   "source": [
    "os.chdir('E:/Practical Time Series')"
   ]
  },
  {
   "cell_type": "code",
   "execution_count": 3,
   "metadata": {
    "collapsed": true
   },
   "outputs": [],
   "source": [
    "df = pd.read_csv('datasets/PRSA_data_2010.1.1-2014.12.31.csv')"
   ]
  },
  {
   "cell_type": "code",
   "execution_count": 4,
   "metadata": {},
   "outputs": [
    {
     "name": "stdout",
     "output_type": "stream",
     "text": [
      "Shape of the dataframe: (43824, 13)\n"
     ]
    }
   ],
   "source": [
    "print('Shape of the dataframe:', df.shape)"
   ]
  },
  {
   "cell_type": "code",
   "execution_count": 5,
   "metadata": {},
   "outputs": [
    {
     "data": {
      "text/html": [
       "<div>\n",
       "<style>\n",
       "    .dataframe thead tr:only-child th {\n",
       "        text-align: right;\n",
       "    }\n",
       "\n",
       "    .dataframe thead th {\n",
       "        text-align: left;\n",
       "    }\n",
       "\n",
       "    .dataframe tbody tr th {\n",
       "        vertical-align: top;\n",
       "    }\n",
       "</style>\n",
       "<table border=\"1\" class=\"dataframe\">\n",
       "  <thead>\n",
       "    <tr style=\"text-align: right;\">\n",
       "      <th></th>\n",
       "      <th>No</th>\n",
       "      <th>year</th>\n",
       "      <th>month</th>\n",
       "      <th>day</th>\n",
       "      <th>hour</th>\n",
       "      <th>pm2.5</th>\n",
       "      <th>DEWP</th>\n",
       "      <th>TEMP</th>\n",
       "      <th>PRES</th>\n",
       "      <th>cbwd</th>\n",
       "      <th>Iws</th>\n",
       "      <th>Is</th>\n",
       "      <th>Ir</th>\n",
       "    </tr>\n",
       "  </thead>\n",
       "  <tbody>\n",
       "    <tr>\n",
       "      <th>0</th>\n",
       "      <td>1</td>\n",
       "      <td>2010</td>\n",
       "      <td>1</td>\n",
       "      <td>1</td>\n",
       "      <td>0</td>\n",
       "      <td>NaN</td>\n",
       "      <td>-21</td>\n",
       "      <td>-11.0</td>\n",
       "      <td>1021.0</td>\n",
       "      <td>NW</td>\n",
       "      <td>1.79</td>\n",
       "      <td>0</td>\n",
       "      <td>0</td>\n",
       "    </tr>\n",
       "    <tr>\n",
       "      <th>1</th>\n",
       "      <td>2</td>\n",
       "      <td>2010</td>\n",
       "      <td>1</td>\n",
       "      <td>1</td>\n",
       "      <td>1</td>\n",
       "      <td>NaN</td>\n",
       "      <td>-21</td>\n",
       "      <td>-12.0</td>\n",
       "      <td>1020.0</td>\n",
       "      <td>NW</td>\n",
       "      <td>4.92</td>\n",
       "      <td>0</td>\n",
       "      <td>0</td>\n",
       "    </tr>\n",
       "    <tr>\n",
       "      <th>2</th>\n",
       "      <td>3</td>\n",
       "      <td>2010</td>\n",
       "      <td>1</td>\n",
       "      <td>1</td>\n",
       "      <td>2</td>\n",
       "      <td>NaN</td>\n",
       "      <td>-21</td>\n",
       "      <td>-11.0</td>\n",
       "      <td>1019.0</td>\n",
       "      <td>NW</td>\n",
       "      <td>6.71</td>\n",
       "      <td>0</td>\n",
       "      <td>0</td>\n",
       "    </tr>\n",
       "    <tr>\n",
       "      <th>3</th>\n",
       "      <td>4</td>\n",
       "      <td>2010</td>\n",
       "      <td>1</td>\n",
       "      <td>1</td>\n",
       "      <td>3</td>\n",
       "      <td>NaN</td>\n",
       "      <td>-21</td>\n",
       "      <td>-14.0</td>\n",
       "      <td>1019.0</td>\n",
       "      <td>NW</td>\n",
       "      <td>9.84</td>\n",
       "      <td>0</td>\n",
       "      <td>0</td>\n",
       "    </tr>\n",
       "    <tr>\n",
       "      <th>4</th>\n",
       "      <td>5</td>\n",
       "      <td>2010</td>\n",
       "      <td>1</td>\n",
       "      <td>1</td>\n",
       "      <td>4</td>\n",
       "      <td>NaN</td>\n",
       "      <td>-20</td>\n",
       "      <td>-12.0</td>\n",
       "      <td>1018.0</td>\n",
       "      <td>NW</td>\n",
       "      <td>12.97</td>\n",
       "      <td>0</td>\n",
       "      <td>0</td>\n",
       "    </tr>\n",
       "  </tbody>\n",
       "</table>\n",
       "</div>"
      ],
      "text/plain": [
       "   No  year  month  day  hour  pm2.5  DEWP  TEMP    PRES cbwd    Iws  Is  Ir\n",
       "0   1  2010      1    1     0    NaN   -21 -11.0  1021.0   NW   1.79   0   0\n",
       "1   2  2010      1    1     1    NaN   -21 -12.0  1020.0   NW   4.92   0   0\n",
       "2   3  2010      1    1     2    NaN   -21 -11.0  1019.0   NW   6.71   0   0\n",
       "3   4  2010      1    1     3    NaN   -21 -14.0  1019.0   NW   9.84   0   0\n",
       "4   5  2010      1    1     4    NaN   -20 -12.0  1018.0   NW  12.97   0   0"
      ]
     },
     "execution_count": 5,
     "metadata": {},
     "output_type": "execute_result"
    }
   ],
   "source": [
    "df.head()"
   ]
  },
  {
   "cell_type": "code",
   "execution_count": 6,
   "metadata": {
    "collapsed": true
   },
   "outputs": [],
   "source": [
    "df.dropna(subset=['pm2.5'], axis=0, inplace=True)\n",
    "df.reset_index(drop=True, inplace=True)"
   ]
  },
  {
   "cell_type": "code",
   "execution_count": 7,
   "metadata": {
    "collapsed": true
   },
   "outputs": [],
   "source": [
    "df['datetime'] = df[['year', 'month', 'day', 'hour']].apply(lambda row: datetime.datetime(year=row['year'], month=row['month'], day=row['day'], \n",
    "                                                                                          hour=row['hour']), axis=1)\n",
    "df.sort_values('datetime', ascending=True, inplace=True)"
   ]
  },
  {
   "cell_type": "code",
   "execution_count": 8,
   "metadata": {},
   "outputs": [
    {
     "data": {
      "image/png": "[encoded data removed]",
      "text/plain": [
       "<matplotlib.figure.Figure at 0x56ec908>"
      ]
     },
     "metadata": {},
     "output_type": "display_data"
    }
   ],
   "source": [
    "plt.figure(figsize=(5.5, 5.5))\n",
    "g = sns.boxplot(df['pm2.5'])\n",
    "g.set_title('Box plot of pm2.5')\n",
    "plt.savefig('plots/Section 5/_05_06.png', format='png', dpi=300)"
   ]
  },
  {
   "cell_type": "code",
   "execution_count": 9,
   "metadata": {},
   "outputs": [
    {
     "name": "stderr",
     "output_type": "stream",
     "text": [
      "C:\\ProgramData\\Anaconda3\\lib\\site-packages\\seaborn\\timeseries.py:183: UserWarning: The tsplot function is deprecated and will be removed or replaced (in a substantially altered version) in a future release.\n",
      "  warnings.warn(msg, UserWarning)\n"
     ]
    },
    {
     "data": {
      "image/png": "[encoded data removed]",
      "text/plain": [
       "<matplotlib.figure.Figure at 0xbe72e48>"
      ]
     },
     "metadata": {},
     "output_type": "display_data"
    }
   ],
   "source": [
    "plt.figure(figsize=(5.5, 5.5))\n",
    "g = sns.tsplot(df['pm2.5'])\n",
    "g.set_title('Time series of pm2.5')\n",
    "g.set_xlabel('Index')\n",
    "g.set_ylabel('pm2.5 readings')\n",
    "plt.savefig('plots/Section 5/_05_07.png', format='png', dpi=300)"
   ]
  },
  {
   "cell_type": "code",
   "execution_count": 10,
   "metadata": {},
   "outputs": [
    {
     "name": "stderr",
     "output_type": "stream",
     "text": [
      "C:\\ProgramData\\Anaconda3\\lib\\site-packages\\seaborn\\timeseries.py:183: UserWarning: The tsplot function is deprecated and will be removed or replaced (in a substantially altered version) in a future release.\n",
      "  warnings.warn(msg, UserWarning)\n"
     ]
    },
    {
     "data": {
      "image/png": "[encoded data removed]",
      "text/plain": [
       "<matplotlib.figure.Figure at 0xc7b0470>"
      ]
     },
     "metadata": {},
     "output_type": "display_data"
    },
    {
     "data": {
      "image/png": "[encoded data removed]",
      "text/plain": [
       "<matplotlib.figure.Figure at 0xb9e5c50>"
      ]
     },
     "metadata": {},
     "output_type": "display_data"
    }
   ],
   "source": [
    "plt.figure(figsize=(5.5, 5.5))\n",
    "g = sns.tsplot(df['pm2.5'].loc[df['datetime']<=datetime.datetime(year=2010,month=6,day=30)], color='g')\n",
    "g.set_title('pm2.5 during 2010')\n",
    "g.set_xlabel('Index')\n",
    "g.set_ylabel('pm2.5 readings')\n",
    "plt.savefig('plots/Section 5/_05_08.png', format='png', dpi=300)\n",
    "\n",
    "  \n",
    "plt.figure(figsize=(5.5, 5.5))\n",
    "g = sns.tsplot(df['pm2.5'].loc[df['datetime']<=datetime.datetime(year=2010,month=1,day=31)], color='g')\n",
    "g.set_title('pm2.5 during Jan 2010')\n",
    "g.set_xlabel('Index')\n",
    "g.set_ylabel('pm2.5 readings')\n",
    "plt.savefig('plots/Section 5/_05_09.png', format='png', dpi=300)"
   ]
  },
  {
   "cell_type": "code",
   "execution_count": 11,
   "metadata": {
    "collapsed": true
   },
   "outputs": [],
   "source": [
    "from sklearn.preprocessing import MinMaxScaler\n",
    "scaler = MinMaxScaler(feature_range=(0, 1))\n",
    "df['scaled_pm2.5'] = scaler.fit_transform(np.array(df['pm2.5']).reshape(-1, 1))"
   ]
  },
  {
   "cell_type": "code",
   "execution_count": 12,
   "metadata": {},
   "outputs": [
    {
     "name": "stdout",
     "output_type": "stream",
     "text": [
      "Shape of train: (33096, 15)\n",
      "Shape of validation: (8661, 15)\n"
     ]
    }
   ],
   "source": [
    "split_date = datetime.datetime(year=2014, month=1, day=1, hour=0)\n",
    "df_train = df.loc[df['datetime']<split_date]\n",
    "df_val = df.loc[df['datetime']>=split_date]\n",
    "print('Shape of train:', df_train.shape)\n",
    "print('Shape of validation:', df_val.shape)"
   ]
  },
  {
   "cell_type": "code",
   "execution_count": 13,
   "metadata": {},
   "outputs": [
    {
     "data": {
      "text/html": [
       "<div>\n",
       "<style>\n",
       "    .dataframe thead tr:only-child th {\n",
       "        text-align: right;\n",
       "    }\n",
       "\n",
       "    .dataframe thead th {\n",
       "        text-align: left;\n",
       "    }\n",
       "\n",
       "    .dataframe tbody tr th {\n",
       "        vertical-align: top;\n",
       "    }\n",
       "</style>\n",
       "<table border=\"1\" class=\"dataframe\">\n",
       "  <thead>\n",
       "    <tr style=\"text-align: right;\">\n",
       "      <th></th>\n",
       "      <th>No</th>\n",
       "      <th>year</th>\n",
       "      <th>month</th>\n",
       "      <th>day</th>\n",
       "      <th>hour</th>\n",
       "      <th>pm2.5</th>\n",
       "      <th>DEWP</th>\n",
       "      <th>TEMP</th>\n",
       "      <th>PRES</th>\n",
       "      <th>cbwd</th>\n",
       "      <th>Iws</th>\n",
       "      <th>Is</th>\n",
       "      <th>Ir</th>\n",
       "      <th>datetime</th>\n",
       "      <th>scaled_pm2.5</th>\n",
       "    </tr>\n",
       "  </thead>\n",
       "  <tbody>\n",
       "    <tr>\n",
       "      <th>0</th>\n",
       "      <td>25</td>\n",
       "      <td>2010</td>\n",
       "      <td>1</td>\n",
       "      <td>2</td>\n",
       "      <td>0</td>\n",
       "      <td>129.0</td>\n",
       "      <td>-16</td>\n",
       "      <td>-4.0</td>\n",
       "      <td>1020.0</td>\n",
       "      <td>SE</td>\n",
       "      <td>1.79</td>\n",
       "      <td>0</td>\n",
       "      <td>0</td>\n",
       "      <td>2010-01-02 00:00:00</td>\n",
       "      <td>0.129779</td>\n",
       "    </tr>\n",
       "    <tr>\n",
       "      <th>1</th>\n",
       "      <td>26</td>\n",
       "      <td>2010</td>\n",
       "      <td>1</td>\n",
       "      <td>2</td>\n",
       "      <td>1</td>\n",
       "      <td>148.0</td>\n",
       "      <td>-15</td>\n",
       "      <td>-4.0</td>\n",
       "      <td>1020.0</td>\n",
       "      <td>SE</td>\n",
       "      <td>2.68</td>\n",
       "      <td>0</td>\n",
       "      <td>0</td>\n",
       "      <td>2010-01-02 01:00:00</td>\n",
       "      <td>0.148893</td>\n",
       "    </tr>\n",
       "    <tr>\n",
       "      <th>2</th>\n",
       "      <td>27</td>\n",
       "      <td>2010</td>\n",
       "      <td>1</td>\n",
       "      <td>2</td>\n",
       "      <td>2</td>\n",
       "      <td>159.0</td>\n",
       "      <td>-11</td>\n",
       "      <td>-5.0</td>\n",
       "      <td>1021.0</td>\n",
       "      <td>SE</td>\n",
       "      <td>3.57</td>\n",
       "      <td>0</td>\n",
       "      <td>0</td>\n",
       "      <td>2010-01-02 02:00:00</td>\n",
       "      <td>0.159960</td>\n",
       "    </tr>\n",
       "    <tr>\n",
       "      <th>3</th>\n",
       "      <td>28</td>\n",
       "      <td>2010</td>\n",
       "      <td>1</td>\n",
       "      <td>2</td>\n",
       "      <td>3</td>\n",
       "      <td>181.0</td>\n",
       "      <td>-7</td>\n",
       "      <td>-5.0</td>\n",
       "      <td>1022.0</td>\n",
       "      <td>SE</td>\n",
       "      <td>5.36</td>\n",
       "      <td>1</td>\n",
       "      <td>0</td>\n",
       "      <td>2010-01-02 03:00:00</td>\n",
       "      <td>0.182093</td>\n",
       "    </tr>\n",
       "    <tr>\n",
       "      <th>4</th>\n",
       "      <td>29</td>\n",
       "      <td>2010</td>\n",
       "      <td>1</td>\n",
       "      <td>2</td>\n",
       "      <td>4</td>\n",
       "      <td>138.0</td>\n",
       "      <td>-7</td>\n",
       "      <td>-5.0</td>\n",
       "      <td>1022.0</td>\n",
       "      <td>SE</td>\n",
       "      <td>6.25</td>\n",
       "      <td>2</td>\n",
       "      <td>0</td>\n",
       "      <td>2010-01-02 04:00:00</td>\n",
       "      <td>0.138833</td>\n",
       "    </tr>\n",
       "  </tbody>\n",
       "</table>\n",
       "</div>"
      ],
      "text/plain": [
       "   No  year  month  day  hour  pm2.5  DEWP  TEMP    PRES cbwd   Iws  Is  Ir  \\\n",
       "0  25  2010      1    2     0  129.0   -16  -4.0  1020.0   SE  1.79   0   0   \n",
       "1  26  2010      1    2     1  148.0   -15  -4.0  1020.0   SE  2.68   0   0   \n",
       "2  27  2010      1    2     2  159.0   -11  -5.0  1021.0   SE  3.57   0   0   \n",
       "3  28  2010      1    2     3  181.0    -7  -5.0  1022.0   SE  5.36   1   0   \n",
       "4  29  2010      1    2     4  138.0    -7  -5.0  1022.0   SE  6.25   2   0   \n",
       "\n",
       "             datetime  scaled_pm2.5  \n",
       "0 2010-01-02 00:00:00      0.129779  \n",
       "1 2010-01-02 01:00:00      0.148893  \n",
       "2 2010-01-02 02:00:00      0.159960  \n",
       "3 2010-01-02 03:00:00      0.182093  \n",
       "4 2010-01-02 04:00:00      0.138833  "
      ]
     },
     "execution_count": 13,
     "metadata": {},
     "output_type": "execute_result"
    }
   ],
   "source": [
    "df_train.head()"
   ]
  },
  {
   "cell_type": "code",
   "execution_count": 14,
   "metadata": {},
   "outputs": [
    {
     "data": {
      "text/html": [
       "<div>\n",
       "<style>\n",
       "    .dataframe thead tr:only-child th {\n",
       "        text-align: right;\n",
       "    }\n",
       "\n",
       "    .dataframe thead th {\n",
       "        text-align: left;\n",
       "    }\n",
       "\n",
       "    .dataframe tbody tr th {\n",
       "        vertical-align: top;\n",
       "    }\n",
       "</style>\n",
       "<table border=\"1\" class=\"dataframe\">\n",
       "  <thead>\n",
       "    <tr style=\"text-align: right;\">\n",
       "      <th></th>\n",
       "      <th>No</th>\n",
       "      <th>year</th>\n",
       "      <th>month</th>\n",
       "      <th>day</th>\n",
       "      <th>hour</th>\n",
       "      <th>pm2.5</th>\n",
       "      <th>DEWP</th>\n",
       "      <th>TEMP</th>\n",
       "      <th>PRES</th>\n",
       "      <th>cbwd</th>\n",
       "      <th>Iws</th>\n",
       "      <th>Is</th>\n",
       "      <th>Ir</th>\n",
       "      <th>datetime</th>\n",
       "      <th>scaled_pm2.5</th>\n",
       "    </tr>\n",
       "  </thead>\n",
       "  <tbody>\n",
       "    <tr>\n",
       "      <th>33096</th>\n",
       "      <td>35065</td>\n",
       "      <td>2014</td>\n",
       "      <td>1</td>\n",
       "      <td>1</td>\n",
       "      <td>0</td>\n",
       "      <td>24.0</td>\n",
       "      <td>-20</td>\n",
       "      <td>7.0</td>\n",
       "      <td>1014.0</td>\n",
       "      <td>NW</td>\n",
       "      <td>143.48</td>\n",
       "      <td>0</td>\n",
       "      <td>0</td>\n",
       "      <td>2014-01-01 00:00:00</td>\n",
       "      <td>0.024145</td>\n",
       "    </tr>\n",
       "    <tr>\n",
       "      <th>33097</th>\n",
       "      <td>35066</td>\n",
       "      <td>2014</td>\n",
       "      <td>1</td>\n",
       "      <td>1</td>\n",
       "      <td>1</td>\n",
       "      <td>53.0</td>\n",
       "      <td>-20</td>\n",
       "      <td>7.0</td>\n",
       "      <td>1013.0</td>\n",
       "      <td>NW</td>\n",
       "      <td>147.50</td>\n",
       "      <td>0</td>\n",
       "      <td>0</td>\n",
       "      <td>2014-01-01 01:00:00</td>\n",
       "      <td>0.053320</td>\n",
       "    </tr>\n",
       "    <tr>\n",
       "      <th>33098</th>\n",
       "      <td>35067</td>\n",
       "      <td>2014</td>\n",
       "      <td>1</td>\n",
       "      <td>1</td>\n",
       "      <td>2</td>\n",
       "      <td>65.0</td>\n",
       "      <td>-20</td>\n",
       "      <td>6.0</td>\n",
       "      <td>1013.0</td>\n",
       "      <td>NW</td>\n",
       "      <td>151.52</td>\n",
       "      <td>0</td>\n",
       "      <td>0</td>\n",
       "      <td>2014-01-01 02:00:00</td>\n",
       "      <td>0.065392</td>\n",
       "    </tr>\n",
       "    <tr>\n",
       "      <th>33099</th>\n",
       "      <td>35068</td>\n",
       "      <td>2014</td>\n",
       "      <td>1</td>\n",
       "      <td>1</td>\n",
       "      <td>3</td>\n",
       "      <td>70.0</td>\n",
       "      <td>-20</td>\n",
       "      <td>6.0</td>\n",
       "      <td>1013.0</td>\n",
       "      <td>NW</td>\n",
       "      <td>153.31</td>\n",
       "      <td>0</td>\n",
       "      <td>0</td>\n",
       "      <td>2014-01-01 03:00:00</td>\n",
       "      <td>0.070423</td>\n",
       "    </tr>\n",
       "    <tr>\n",
       "      <th>33100</th>\n",
       "      <td>35069</td>\n",
       "      <td>2014</td>\n",
       "      <td>1</td>\n",
       "      <td>1</td>\n",
       "      <td>4</td>\n",
       "      <td>79.0</td>\n",
       "      <td>-18</td>\n",
       "      <td>3.0</td>\n",
       "      <td>1012.0</td>\n",
       "      <td>cv</td>\n",
       "      <td>0.89</td>\n",
       "      <td>0</td>\n",
       "      <td>0</td>\n",
       "      <td>2014-01-01 04:00:00</td>\n",
       "      <td>0.079477</td>\n",
       "    </tr>\n",
       "  </tbody>\n",
       "</table>\n",
       "</div>"
      ],
      "text/plain": [
       "          No  year  month  day  hour  pm2.5  DEWP  TEMP    PRES cbwd     Iws  \\\n",
       "33096  35065  2014      1    1     0   24.0   -20   7.0  1014.0   NW  143.48   \n",
       "33097  35066  2014      1    1     1   53.0   -20   7.0  1013.0   NW  147.50   \n",
       "33098  35067  2014      1    1     2   65.0   -20   6.0  1013.0   NW  151.52   \n",
       "33099  35068  2014      1    1     3   70.0   -20   6.0  1013.0   NW  153.31   \n",
       "33100  35069  2014      1    1     4   79.0   -18   3.0  1012.0   cv    0.89   \n",
       "\n",
       "       Is  Ir            datetime  scaled_pm2.5  \n",
       "33096   0   0 2014-01-01 00:00:00      0.024145  \n",
       "33097   0   0 2014-01-01 01:00:00      0.053320  \n",
       "33098   0   0 2014-01-01 02:00:00      0.065392  \n",
       "33099   0   0 2014-01-01 03:00:00      0.070423  \n",
       "33100   0   0 2014-01-01 04:00:00      0.079477  "
      ]
     },
     "execution_count": 14,
     "metadata": {},
     "output_type": "execute_result"
    }
   ],
   "source": [
    "df_val.head()"
   ]
  },
  {
   "cell_type": "code",
   "execution_count": 15,
   "metadata": {
    "collapsed": true
   },
   "outputs": [],
   "source": [
    "df_val.reset_index(drop=True, inplace=True)"
   ]
  },
  {
   "cell_type": "code",
   "execution_count": 16,
   "metadata": {},
   "outputs": [
    {
     "name": "stderr",
     "output_type": "stream",
     "text": [
      "C:\\ProgramData\\Anaconda3\\lib\\site-packages\\seaborn\\timeseries.py:183: UserWarning: The tsplot function is deprecated and will be removed or replaced (in a substantially altered version) in a future release.\n",
      "  warnings.warn(msg, UserWarning)\n"
     ]
    },
    {
     "data": {
      "text/plain": [
       "Text(0,0.5,'Scaled pm2.5 readings')"
      ]
     },
     "execution_count": 16,
     "metadata": {},
     "output_type": "execute_result"
    },
    {
     "data": {
      "image/png": "[encoded data removed]",
      "text/plain": [
       "<matplotlib.figure.Figure at 0xc7eaac8>"
      ]
     },
     "metadata": {},
     "output_type": "display_data"
    },
    {
     "data": {
      "image/png": "[encoded data removed]",
      "text/plain": [
       "<matplotlib.figure.Figure at 0xc85db70>"
      ]
     },
     "metadata": {},
     "output_type": "display_data"
    }
   ],
   "source": [
    "plt.figure(figsize=(5.5, 5.5))\n",
    "g = sns.tsplot(df_train['scaled_pm2.5'], color='b')\n",
    "g.set_title('Time series of scaled pm2.5 in train set')\n",
    "g.set_xlabel('Index')\n",
    "g.set_ylabel('Scaled pm2.5 readings')\n",
    "  \n",
    "plt.figure(figsize=(5.5, 5.5))\n",
    "g = sns.tsplot(df_val['scaled_pm2.5'], color='r')\n",
    "g.set_title('Time series of scaled pm2.5 in validation set')\n",
    "g.set_xlabel('Index')\n",
    "g.set_ylabel('Scaled pm2.5 readings')"
   ]
  },
  {
   "cell_type": "code",
   "execution_count": 17,
   "metadata": {
    "collapsed": true
   },
   "outputs": [],
   "source": [
    "def makeXy(ts, nb_timesteps):\n",
    "    \n",
    "    X = []\n",
    "    y = []\n",
    "    for i in range(nb_timesteps, ts.shape[0]):\n",
    "        X.append(list(ts.loc[i-nb_timesteps:i-1]))\n",
    "        y.append(ts.loc[i])\n",
    "    X, y = np.array(X), np.array(y)\n",
    "    return X, y"
   ]
  },
  {
   "cell_type": "code",
   "execution_count": 18,
   "metadata": {},
   "outputs": [
    {
     "name": "stdout",
     "output_type": "stream",
     "text": [
      "Shape of train arrays: (33089, 7) (33089,)\n"
     ]
    }
   ],
   "source": [
    "X_train, y_train = makeXy(df_train['scaled_pm2.5'], 7)\n",
    "print('Shape of train arrays:', X_train.shape, y_train.shape)"
   ]
  },
  {
   "cell_type": "code",
   "execution_count": 19,
   "metadata": {},
   "outputs": [
    {
     "name": "stdout",
     "output_type": "stream",
     "text": [
      "Shape of validation arrays: (8654, 7) (8654,)\n"
     ]
    }
   ],
   "source": [
    "X_val, y_val = makeXy(df_val['scaled_pm2.5'], 7)\n",
    "print('Shape of validation arrays:', X_val.shape, y_val.shape)"
   ]
  },
  {
   "cell_type": "code",
   "execution_count": 20,
   "metadata": {},
   "outputs": [
    {
     "name": "stderr",
     "output_type": "stream",
     "text": [
      "Using Theano backend.\n"
     ]
    }
   ],
   "source": [
    "from keras.layers import Dense, Input, Dropout\n",
    "from keras.optimizers import SGD\n",
    "from keras.models import Model\n",
    "from keras.models import load_model\n",
    "from keras.callbacks import ModelCheckpoint"
   ]
  },
  {
   "cell_type": "code",
   "execution_count": 21,
   "metadata": {
    "collapsed": true
   },
   "outputs": [],
   "source": [
    "input_layer = Input(shape=(7,), dtype='float32')"
   ]
  },
  {
   "cell_type": "code",
   "execution_count": 22,
   "metadata": {
    "collapsed": true
   },
   "outputs": [],
   "source": [
    "dense1 = Dense(32, activation='tanh')(input_layer)\n",
    "dense2 = Dense(16, activation='tanh')(dense1)\n",
    "dense3 = Dense(16, activation='tanh')(dense2)"
   ]
  },
  {
   "cell_type": "code",
   "execution_count": 23,
   "metadata": {
    "collapsed": true
   },
   "outputs": [],
   "source": [
    "dropout_layer = Dropout(0.2)(dense3)"
   ]
  },
  {
   "cell_type": "code",
   "execution_count": 24,
   "metadata": {
    "collapsed": true
   },
   "outputs": [],
   "source": [
    "output_layer = Dense(1, activation='linear')(dropout_layer)"
   ]
  },
  {
   "cell_type": "code",
   "execution_count": 25,
   "metadata": {},
   "outputs": [
    {
     "name": "stdout",
     "output_type": "stream",
     "text": [
      "_________________________________________________________________\n",
      "Layer (type)                 Output Shape              Param #   \n",
      "=================================================================\n",
      "input_1 (InputLayer)         (None, 7)                 0         \n",
      "_________________________________________________________________\n",
      "dense_1 (Dense)              (None, 32)                256       \n",
      "_________________________________________________________________\n",
      "dense_2 (Dense)              (None, 16)                528       \n",
      "_________________________________________________________________\n",
      "dense_3 (Dense)              (None, 16)                272       \n",
      "_________________________________________________________________\n",
      "dropout_1 (Dropout)          (None, 16)                0         \n",
      "_________________________________________________________________\n",
      "dense_4 (Dense)              (None, 1)                 17        \n",
      "=================================================================\n",
      "Total params: 1,073\n",
      "Trainable params: 1,073\n",
      "Non-trainable params: 0\n",
      "_________________________________________________________________\n"
     ]
    }
   ],
   "source": [
    "ts_model = Model(inputs=input_layer, outputs=output_layer)\n",
    "ts_model.compile(loss='mean_absolute_error', optimizer='adam')\n",
    "ts_model.summary()"
   ]
  },
  {
   "cell_type": "code",
   "execution_count": 26,
   "metadata": {},
   "outputs": [
    {
     "name": "stdout",
     "output_type": "stream",
     "text": [
      "Train on 33089 samples, validate on 8654 samples\n",
      "Epoch 1/20\n",
      "33089/33089 [==============================] - 2s 48us/step - loss: 0.0195 - val_loss: 0.0120\n",
      "Epoch 2/20\n",
      "33089/33089 [==============================] - 2s 47us/step - loss: 0.0164 - val_loss: 0.0148\n",
      "Epoch 3/20\n",
      "33089/33089 [==============================] - 2s 47us/step - loss: 0.0162 - val_loss: 0.0127\n",
      "Epoch 4/20\n",
      "33089/33089 [==============================] - 2s 49us/step - loss: 0.0162 - val_loss: 0.0126\n",
      "Epoch 5/20\n",
      "33089/33089 [==============================] - 2s 48us/step - loss: 0.0161 - val_loss: 0.0119\n",
      "Epoch 6/20\n",
      "33089/33089 [==============================] - 2s 51us/step - loss: 0.0161 - val_loss: 0.0119\n",
      "Epoch 7/20\n",
      "33089/33089 [==============================] - 2s 50us/step - loss: 0.0161 - val_loss: 0.0134\n",
      "Epoch 8/20\n",
      "33089/33089 [==============================] - 2s 52us/step - loss: 0.0160 - val_loss: 0.0146\n",
      "Epoch 9/20\n",
      "33089/33089 [==============================] - 2s 51us/step - loss: 0.0160 - val_loss: 0.0139\n",
      "Epoch 10/20\n",
      "33089/33089 [==============================] - 2s 54us/step - loss: 0.0161 - val_loss: 0.0120\n",
      "Epoch 11/20\n",
      "33089/33089 [==============================] - 2s 50us/step - loss: 0.0160 - val_loss: 0.0121\n",
      "Epoch 12/20\n",
      "33089/33089 [==============================] - 2s 54us/step - loss: 0.0160 - val_loss: 0.0119\n",
      "Epoch 13/20\n",
      "33089/33089 [==============================] - 2s 51us/step - loss: 0.0161 - val_loss: 0.0127\n",
      "Epoch 14/20\n",
      "33089/33089 [==============================] - 2s 52us/step - loss: 0.0159 - val_loss: 0.0125\n",
      "Epoch 15/20\n",
      "33089/33089 [==============================] - 2s 48us/step - loss: 0.0160 - val_loss: 0.0134\n",
      "Epoch 16/20\n",
      "33089/33089 [==============================] - 2s 53us/step - loss: 0.0160 - val_loss: 0.0135\n",
      "Epoch 17/20\n",
      "33089/33089 [==============================] - 2s 52us/step - loss: 0.0159 - val_loss: 0.0124\n",
      "Epoch 18/20\n",
      "33089/33089 [==============================] - 2s 52us/step - loss: 0.0160 - val_loss: 0.0129\n",
      "Epoch 19/20\n",
      "33089/33089 [==============================] - 2s 49us/step - loss: 0.0161 - val_loss: 0.0123\n",
      "Epoch 20/20\n",
      "33089/33089 [==============================] - 2s 52us/step - loss: 0.0161 - val_loss: 0.0132\n"
     ]
    },
    {
     "data": {
      "text/plain": [
       "<keras.callbacks.History at 0x74ab9198>"
      ]
     },
     "execution_count": 26,
     "metadata": {},
     "output_type": "execute_result"
    }
   ],
   "source": [
    "save_weights_at = os.path.join('datasets', 'PRSA_data_2010.1.1-2014.12.31.{epoch:02d}-{val_loss:.4f}.hdf5') \n",
    "save_best = ModelCheckpoint(save_weights_at, monitor='val_loss', verbose=0,\n",
    "                            save_best_only=True, save_weights_only=False, mode='min',\n",
    "                            period=1)\n",
    "                            \n",
    "ts_model.fit(x=X_train, y=y_train, batch_size=16, epochs=20,\n",
    "             verbose=1, callbacks=[save_best], validation_data=(X_val, y_val),\n",
    "             shuffle=True)"
   ]
  },
  {
   "cell_type": "code",
   "execution_count": 27,
   "metadata": {},
   "outputs": [],
   "source": [
    "best_model = load_model(os.path.join('datasets', 'PRSA_data_2010.1.1-2014.12.31.03-0.0119.hdf5'))\n",
    "preds = best_model.predict(X_val)\n",
    "pred_pm25 = scaler.inverse_transform(preds)\n",
    "pred_pm25 = np.squeeze(pred_pm25)"
   ]
  },
  {
   "cell_type": "code",
   "execution_count": 28,
   "metadata": {
    "collapsed": true
   },
   "outputs": [],
   "source": [
    "from sklearn.metrics import mean_absolute_error"
   ]
  },
  {
   "cell_type": "code",
   "execution_count": 29,
   "metadata": {},
   "outputs": [
    {
     "name": "stdout",
     "output_type": "stream",
     "text": [
      "MAE for the validation set: 11.8007\n"
     ]
    }
   ],
   "source": [
    "mae = mean_absolute_error(df_val['pm2.5'].loc[7:], pred_pm25)\n",
    "print('MAE for the validation set:', round(mae, 4))"
   ]
  },
  {
   "cell_type": "code",
   "execution_count": 30,
   "metadata": {},
   "outputs": [
    {
     "data": {
      "image/png": "[encoded data removed]",
      "text/plain": [
       "<matplotlib.figure.Figure at 0xc93b240>"
      ]
     },
     "metadata": {},
     "output_type": "display_data"
    }
   ],
   "source": [
    "plt.figure(figsize=(5.5, 5.5))\n",
    "plt.plot(range(50), df_val['pm2.5'].loc[7:56], linestyle='-', marker='*', color='r')\n",
    "plt.plot(range(50), pred_pm25[:50], linestyle='-', marker='.', color='b')\n",
    "plt.legend(['Actual','Predicted'], loc=2)\n",
    "plt.title('Actual vs Predicted pm2.5')\n",
    "plt.ylabel('pm2.5')\n",
    "plt.xlabel('Index')\n",
    "plt.savefig('plots/Section 5/_05_10.png', format='png', dpi=300)"
   ]
  },
  {
   "cell_type": "code",
   "execution_count": 31,
   "metadata": {},
   "outputs": [
    {
     "data": {
      "text/plain": [
       "'\\nPM2.5_Time series forecasting by LSTM\\n'"
      ]
     },
     "execution_count": 31,
     "metadata": {},
     "output_type": "execute_result"
    }
   ],
   "source": [
    "\"\"\"\n",
    "PM2.5_Time series forecasting by LSTM\n",
    "\"\"\""
   ]
  },
  {
   "cell_type": "code",
   "execution_count": 32,
   "metadata": {
    "collapsed": true
   },
   "outputs": [],
   "source": [
    "from keras.layers.recurrent import LSTM"
   ]
  },
  {
   "cell_type": "code",
   "execution_count": 33,
   "metadata": {},
   "outputs": [
    {
     "name": "stdout",
     "output_type": "stream",
     "text": [
      "Shape of arrays after reshaping: (33089, 7, 1) (8654, 7, 1)\n"
     ]
    }
   ],
   "source": [
    "X_train, X_val = X_train.reshape((X_train.shape[0], X_train.shape[1], 1)), X_val.reshape((X_val.shape[0], X_val.shape[1], 1)) \n",
    "print('Shape of arrays after reshaping:', X_train.shape, X_val.shape)"
   ]
  },
  {
   "cell_type": "code",
   "execution_count": 34,
   "metadata": {
    "collapsed": true
   },
   "outputs": [],
   "source": [
    "input_layer = Input(shape=(7,1), dtype='float32')"
   ]
  },
  {
   "cell_type": "code",
   "execution_count": 35,
   "metadata": {
    "collapsed": true
   },
   "outputs": [],
   "source": [
    "lstm_layer1 = LSTM(64, input_shape=(7,1), return_sequences=True)(input_layer)\n",
    "lstm_layer2 = LSTM(32, input_shape=(7,64), return_sequences=False)(lstm_layer1)"
   ]
  },
  {
   "cell_type": "code",
   "execution_count": 36,
   "metadata": {
    "collapsed": true
   },
   "outputs": [],
   "source": [
    "dropout_layer = Dropout(0.2)(lstm_layer2)\n",
    "output_layer = Dense(1, activation='linear')(dropout_layer)"
   ]
  },
  {
   "cell_type": "code",
   "execution_count": 37,
   "metadata": {},
   "outputs": [
    {
     "name": "stdout",
     "output_type": "stream",
     "text": [
      "_________________________________________________________________\n",
      "Layer (type)                 Output Shape              Param #   \n",
      "=================================================================\n",
      "input_2 (InputLayer)         (None, 7, 1)              0         \n",
      "_________________________________________________________________\n",
      "lstm_1 (LSTM)                (None, 7, 64)             16896     \n",
      "_________________________________________________________________\n",
      "lstm_2 (LSTM)                (None, 32)                12416     \n",
      "_________________________________________________________________\n",
      "dropout_2 (Dropout)          (None, 32)                0         \n",
      "_________________________________________________________________\n",
      "dense_5 (Dense)              (None, 1)                 33        \n",
      "=================================================================\n",
      "Total params: 29,345\n",
      "Trainable params: 29,345\n",
      "Non-trainable params: 0\n",
      "_________________________________________________________________\n"
     ]
    }
   ],
   "source": [
    "ts_model = Model(inputs=input_layer, outputs=output_layer)\n",
    "ts_model.compile(loss='mean_absolute_error', optimizer='adam')\n",
    "ts_model.summary()"
   ]
  },
  {
   "cell_type": "code",
   "execution_count": 38,
   "metadata": {},
   "outputs": [
    {
     "name": "stdout",
     "output_type": "stream",
     "text": [
      "Train on 33089 samples, validate on 8654 samples\n",
      "Epoch 1/20\n",
      "33089/33089 [==============================] - 928s 28ms/step - loss: 0.0196 - val_loss: 0.0117\n",
      "Epoch 2/20\n",
      "33089/33089 [==============================] - 82s 2ms/step - loss: 0.0150 - val_loss: 0.0129\n",
      "Epoch 3/20\n",
      "33089/33089 [==============================] - 99s 3ms/step - loss: 0.0150 - val_loss: 0.0127\n",
      "Epoch 4/20\n",
      "33089/33089 [==============================] - 106s 3ms/step - loss: 0.0150 - val_loss: 0.0125\n",
      "Epoch 5/20\n",
      "33089/33089 [==============================] - 90s 3ms/step - loss: 0.0148 - val_loss: 0.0129\n",
      "Epoch 6/20\n",
      "33089/33089 [==============================] - 97s 3ms/step - loss: 0.0149 - val_loss: 0.0122\n",
      "Epoch 7/20\n",
      "33089/33089 [==============================] - 103s 3ms/step - loss: 0.0149 - val_loss: 0.0134\n",
      "Epoch 8/20\n",
      "33089/33089 [==============================] - 99s 3ms/step - loss: 0.0148 - val_loss: 0.0120\n",
      "Epoch 9/20\n",
      "33089/33089 [==============================] - 102s 3ms/step - loss: 0.0148 - val_loss: 0.0119\n",
      "Epoch 10/20\n",
      "33089/33089 [==============================] - 105s 3ms/step - loss: 0.0148 - val_loss: 0.0119\n",
      "Epoch 11/20\n",
      "33089/33089 [==============================] - 98s 3ms/step - loss: 0.0148 - val_loss: 0.0119\n",
      "Epoch 12/20\n",
      "33089/33089 [==============================] - 107s 3ms/step - loss: 0.0147 - val_loss: 0.0117\n",
      "Epoch 13/20\n",
      "33089/33089 [==============================] - 112s 3ms/step - loss: 0.0147 - val_loss: 0.0119\n",
      "Epoch 14/20\n",
      "33089/33089 [==============================] - 129s 4ms/step - loss: 0.0145 - val_loss: 0.0121\n",
      "Epoch 15/20\n",
      "33089/33089 [==============================] - 115s 3ms/step - loss: 0.0146 - val_loss: 0.0125\n",
      "Epoch 16/20\n",
      "33089/33089 [==============================] - 128s 4ms/step - loss: 0.0146 - val_loss: 0.0120\n",
      "Epoch 17/20\n",
      "33089/33089 [==============================] - 125s 4ms/step - loss: 0.0146 - val_loss: 0.0120\n",
      "Epoch 18/20\n",
      "33089/33089 [==============================] - 116s 4ms/step - loss: 0.0147 - val_loss: 0.0116\n",
      "Epoch 19/20\n",
      "33089/33089 [==============================] - 129s 4ms/step - loss: 0.0147 - val_loss: 0.0125\n",
      "Epoch 20/20\n",
      "33089/33089 [==============================] - 119s 4ms/step - loss: 0.0145 - val_loss: 0.0117\n"
     ]
    },
    {
     "data": {
      "text/plain": [
       "<keras.callbacks.History at 0x81ae7278>"
      ]
     },
     "execution_count": 38,
     "metadata": {},
     "output_type": "execute_result"
    }
   ],
   "source": [
    "save_weights_at = os.path.join('datasets', 'PRSA_data_2010.1.1-2014.12.31.{epoch:02d}-{val_loss:.4f}.hdf5') \n",
    "save_best = ModelCheckpoint(save_weights_at, monitor='val_loss', verbose=0,\n",
    "                            save_best_only=True, save_weights_only=False, mode='min',\n",
    "                            period=1)\n",
    "ts_model.fit(x=X_train, y=y_train, batch_size=16, epochs=20,\n",
    "             verbose=1, callbacks=[save_best], validation_data=(X_val, y_val),\n",
    "             shuffle=True)"
   ]
  },
  {
   "cell_type": "code",
   "execution_count": 39,
   "metadata": {
    "collapsed": true
   },
   "outputs": [],
   "source": [
    "best_model = load_model(os.path.join('datasets', 'PRSA_data_2010.1.1-2014.12.31.01-0.0117.hdf5'))\n",
    "preds = best_model.predict(X_val)\n",
    "pred_pm25 = scaler.inverse_transform(preds)\n",
    "pred_pm25 = np.squeeze(pred_pm25)"
   ]
  },
  {
   "cell_type": "code",
   "execution_count": 40,
   "metadata": {},
   "outputs": [
    {
     "name": "stdout",
     "output_type": "stream",
     "text": [
      "MAE for the validation set: 11.6184\n"
     ]
    }
   ],
   "source": [
    "from sklearn.metrics import mean_absolute_error\n",
    "mae = mean_absolute_error(df_val['pm2.5'].loc[7:], pred_pm25)\n",
    "print('MAE for the validation set:', round(mae, 4))"
   ]
  },
  {
   "cell_type": "code",
   "execution_count": 41,
   "metadata": {},
   "outputs": [
    {
     "data": {
      "text/plain": [
       "Text(0.5,0,'Index')"
      ]
     },
     "execution_count": 41,
     "metadata": {},
     "output_type": "execute_result"
    },
    {
     "data": {
      "image/png": "[encoded data removed]",
      "text/plain": [
       "<matplotlib.figure.Figure at 0x87eacac8>"
      ]
     },
     "metadata": {},
     "output_type": "display_data"
    }
   ],
   "source": [
    "plt.figure(figsize=(5.5, 5.5))\n",
    "plt.plot(range(50), df_val['pm2.5'].loc[7:56], linestyle='-', marker='*', color='r')\n",
    "plt.plot(range(50), pred_pm25[:50], linestyle='-', marker='.', color='b')\n",
    "plt.legend(['Actual','Predicted'], loc=2)\n",
    "plt.title('Actual vs Predicted pm2.5')\n",
    "plt.ylabel('pm2.5')\n",
    "plt.xlabel('Index')"
   ]
  },
  {
   "cell_type": "code",
   "execution_count": 42,
   "metadata": {},
   "outputs": [
    {
     "data": {
      "text/plain": [
       "'\\nPM2.5_Time series forecasting by GRU\\n'"
      ]
     },
     "execution_count": 42,
     "metadata": {},
     "output_type": "execute_result"
    }
   ],
   "source": [
    "\"\"\"\n",
    "PM2.5_Time series forecasting by GRU\n",
    "\"\"\""
   ]
  },
  {
   "cell_type": "code",
   "execution_count": 43,
   "metadata": {
    "collapsed": true
   },
   "outputs": [],
   "source": [
    "from keras.layers.recurrent import GRU"
   ]
  },
  {
   "cell_type": "code",
   "execution_count": 44,
   "metadata": {},
   "outputs": [
    {
     "name": "stdout",
     "output_type": "stream",
     "text": [
      "Shape of arrays after reshaping: (33089, 7, 1) (8654, 7, 1)\n"
     ]
    }
   ],
   "source": [
    "X_train, X_val = X_train.reshape((X_train.shape[0], X_train.shape[1], 1)), X_val.reshape((X_val.shape[0], X_val.shape[1], 1)) \n",
    "print('Shape of arrays after reshaping:', X_train.shape, X_val.shape) "
   ]
  },
  {
   "cell_type": "code",
   "execution_count": 45,
   "metadata": {
    "collapsed": true
   },
   "outputs": [],
   "source": [
    "input_layer = Input(shape=(7,1), dtype='float32')"
   ]
  },
  {
   "cell_type": "code",
   "execution_count": 46,
   "metadata": {
    "collapsed": true
   },
   "outputs": [],
   "source": [
    "gru_layer1 = GRU(64, input_shape=(7,1), return_sequences=True)(input_layer)\n",
    "gru_layer2 = GRU(32, input_shape=(7,64), return_sequences=False)(gru_layer1)"
   ]
  },
  {
   "cell_type": "code",
   "execution_count": 47,
   "metadata": {
    "collapsed": true
   },
   "outputs": [],
   "source": [
    "dropout_layer = Dropout(0.2)(gru_layer2)\n",
    "output_layer = Dense(1, activation='linear')(dropout_layer)"
   ]
  },
  {
   "cell_type": "code",
   "execution_count": 48,
   "metadata": {},
   "outputs": [
    {
     "name": "stdout",
     "output_type": "stream",
     "text": [
      "_________________________________________________________________\n",
      "Layer (type)                 Output Shape              Param #   \n",
      "=================================================================\n",
      "input_3 (InputLayer)         (None, 7, 1)              0         \n",
      "_________________________________________________________________\n",
      "gru_1 (GRU)                  (None, 7, 64)             12672     \n",
      "_________________________________________________________________\n",
      "gru_2 (GRU)                  (None, 32)                9312      \n",
      "_________________________________________________________________\n",
      "dropout_3 (Dropout)          (None, 32)                0         \n",
      "_________________________________________________________________\n",
      "dense_6 (Dense)              (None, 1)                 33        \n",
      "=================================================================\n",
      "Total params: 22,017\n",
      "Trainable params: 22,017\n",
      "Non-trainable params: 0\n",
      "_________________________________________________________________\n"
     ]
    }
   ],
   "source": [
    "ts_model = Model(inputs=input_layer, outputs=output_layer)\n",
    "ts_model.compile(loss='mean_absolute_error', optimizer='adam')\n",
    "ts_model.summary()"
   ]
  },
  {
   "cell_type": "code",
   "execution_count": 49,
   "metadata": {},
   "outputs": [
    {
     "name": "stderr",
     "output_type": "stream",
     "text": [
      "WARNING (theano.tensor.blas): We did not found a dynamic library into the library_dir of the library we use for blas. If you use ATLAS, make sure to compile it with dynamics library.\n"
     ]
    },
    {
     "name": "stdout",
     "output_type": "stream",
     "text": [
      "Train on 33089 samples, validate on 8654 samples\n",
      "Epoch 1/20\n",
      "33089/33089 [==============================] - 141s 4ms/step - loss: 0.0169 - val_loss: 0.0128\n",
      "Epoch 2/20\n",
      "33089/33089 [==============================] - 130s 4ms/step - loss: 0.0152 - val_loss: 0.0141\n",
      "Epoch 3/20\n",
      "33089/33089 [==============================] - 122s 4ms/step - loss: 0.0151 - val_loss: 0.0145\n",
      "Epoch 4/20\n",
      "33089/33089 [==============================] - 129s 4ms/step - loss: 0.0150 - val_loss: 0.0120\n",
      "Epoch 5/20\n",
      "33089/33089 [==============================] - 128s 4ms/step - loss: 0.0150 - val_loss: 0.0120\n",
      "Epoch 6/20\n",
      "33089/33089 [==============================] - 128s 4ms/step - loss: 0.0149 - val_loss: 0.0123\n",
      "Epoch 7/20\n",
      "33089/33089 [==============================] - 120s 4ms/step - loss: 0.0149 - val_loss: 0.0128\n",
      "Epoch 8/20\n",
      "33089/33089 [==============================] - 118s 4ms/step - loss: 0.0148 - val_loss: 0.0124ETA: \n",
      "Epoch 9/20\n",
      "33089/33089 [==============================] - 123s 4ms/step - loss: 0.0148 - val_loss: 0.0133\n",
      "Epoch 10/20\n",
      "33089/33089 [==============================] - 125s 4ms/step - loss: 0.0148 - val_loss: 0.0131\n",
      "Epoch 11/20\n",
      "33089/33089 [==============================] - 127s 4ms/step - loss: 0.0148 - val_loss: 0.0133\n",
      "Epoch 12/20\n",
      "33089/33089 [==============================] - 208s 6ms/step - loss: 0.0148 - val_loss: 0.0122\n",
      "Epoch 13/20\n",
      "33089/33089 [==============================] - 133s 4ms/step - loss: 0.0148 - val_loss: 0.0122\n",
      "Epoch 14/20\n",
      "33089/33089 [==============================] - 127s 4ms/step - loss: 0.0147 - val_loss: 0.0128\n",
      "Epoch 15/20\n",
      "33089/33089 [==============================] - 134s 4ms/step - loss: 0.0148 - val_loss: 0.0117\n",
      "Epoch 16/20\n",
      "33089/33089 [==============================] - 98s 3ms/step - loss: 0.0148 - val_loss: 0.0132\n",
      "Epoch 17/20\n",
      "33089/33089 [==============================] - 141s 4ms/step - loss: 0.0148 - val_loss: 0.0117\n",
      "Epoch 18/20\n",
      "33089/33089 [==============================] - 130s 4ms/step - loss: 0.0147 - val_loss: 0.0116\n",
      "Epoch 19/20\n",
      "33089/33089 [==============================] - 140s 4ms/step - loss: 0.0148 - val_loss: 0.0123\n",
      "Epoch 20/20\n",
      "33089/33089 [==============================] - 139s 4ms/step - loss: 0.0147 - val_loss: 0.0125\n"
     ]
    },
    {
     "data": {
      "text/plain": [
       "<keras.callbacks.History at 0x8abda8d0>"
      ]
     },
     "execution_count": 49,
     "metadata": {},
     "output_type": "execute_result"
    }
   ],
   "source": [
    "save_weights_at = os.path.join('datasets', 'PRSA_data_2010.1.1-2014.12.31.{epoch:02d}-{val_loss:.4f}.hdf5') \n",
    "save_best = ModelCheckpoint(save_weights_at, monitor='val_loss', verbose=0,\n",
    "                            save_best_only=True, save_weights_only=False, mode='min',\n",
    "                            period=1)\n",
    "ts_model.fit(x=X_train, y=y_train, batch_size=16, epochs=20,\n",
    "             verbose=1, callbacks=[save_best], validation_data=(X_val, y_val),\n",
    "             shuffle=True)"
   ]
  },
  {
   "cell_type": "code",
   "execution_count": 50,
   "metadata": {
    "collapsed": true
   },
   "outputs": [],
   "source": [
    "best_model = load_model(os.path.join('datasets', 'PRSA_data_2010.1.1-2014.12.31.05-0.0120.hdf5'))\n",
    "preds = best_model.predict(X_val)\n",
    "pred_pm25 = scaler.inverse_transform(preds)\n",
    "pred_pm25 = np.squeeze(pred_pm25)"
   ]
  },
  {
   "cell_type": "code",
   "execution_count": 51,
   "metadata": {},
   "outputs": [
    {
     "name": "stdout",
     "output_type": "stream",
     "text": [
      "MAE for the validation set: 11.9145\n"
     ]
    }
   ],
   "source": [
    "from sklearn.metrics import mean_absolute_error\n",
    "mae = mean_absolute_error(df_val['pm2.5'].loc[7:], pred_pm25)\n",
    "print('MAE for the validation set:', round(mae, 4))"
   ]
  },
  {
   "cell_type": "code",
   "execution_count": 52,
   "metadata": {},
   "outputs": [
    {
     "data": {
      "text/plain": [
       "Text(0.5,0,'Index')"
      ]
     },
     "execution_count": 52,
     "metadata": {},
     "output_type": "execute_result"
    },
    {
     "data": {
      "image/png": "[encoded data removed]",
      "text/plain": [
       "<matplotlib.figure.Figure at 0x8e35af60>"
      ]
     },
     "metadata": {},
     "output_type": "display_data"
    }
   ],
   "source": [
    "plt.figure(figsize=(5.5, 5.5))\n",
    "plt.plot(range(50), df_val['pm2.5'].loc[7:56], linestyle='-', marker='*', color='r')\n",
    "plt.plot(range(50), pred_pm25[:50], linestyle='-', marker='.', color='b')\n",
    "plt.legend(['Actual','Predicted'], loc=2)\n",
    "plt.title('Actual vs Predicted pm2.5')\n",
    "plt.ylabel('pm2.5')\n",
    "plt.xlabel('Index')"
   ]
  },
  {
   "cell_type": "code",
   "execution_count": 53,
   "metadata": {},
   "outputs": [
    {
     "data": {
      "text/plain": [
       "'\\nPM2.5_Time series forecasting by 1D Convolution\\n'"
      ]
     },
     "execution_count": 53,
     "metadata": {},
     "output_type": "execute_result"
    }
   ],
   "source": [
    "\"\"\"\n",
    "PM2.5_Time series forecasting by 1D Convolution\n",
    "\"\"\""
   ]
  },
  {
   "cell_type": "code",
   "execution_count": 54,
   "metadata": {
    "collapsed": true
   },
   "outputs": [],
   "source": [
    "from keras.layers import Flatten\n",
    "from keras.layers.convolutional import ZeroPadding1D\n",
    "from keras.layers.convolutional import Conv1D\n",
    "from keras.layers.pooling import AveragePooling1D"
   ]
  },
  {
   "cell_type": "code",
   "execution_count": 57,
   "metadata": {},
   "outputs": [
    {
     "name": "stdout",
     "output_type": "stream",
     "text": [
      "Shape of arrays after reshaping: (33089, 7, 1) (8654, 7, 1)\n"
     ]
    }
   ],
   "source": [
    "X_train, X_val = X_train.reshape((X_train.shape[0], X_train.shape[1], 1)), X_val.reshape((X_val.shape[0], X_val.shape[1], 1)) \n",
    "print('Shape of arrays after reshaping:', X_train.shape, X_val.shape)"
   ]
  },
  {
   "cell_type": "code",
   "execution_count": 58,
   "metadata": {
    "collapsed": true
   },
   "outputs": [],
   "source": [
    "input_layer = Input(shape=(7,1), dtype='float32')"
   ]
  },
  {
   "cell_type": "code",
   "execution_count": 59,
   "metadata": {
    "collapsed": true
   },
   "outputs": [],
   "source": [
    "zeropadding_layer = ZeroPadding1D(padding=1)(input_layer)"
   ]
  },
  {
   "cell_type": "code",
   "execution_count": 60,
   "metadata": {
    "collapsed": true
   },
   "outputs": [],
   "source": [
    "conv1D_layer1 = Conv1D(64, 3, strides=1, use_bias=True)(zeropadding_layer)\n",
    "conv1D_layer2 = Conv1D(32, 3, strides=1, use_bias=True)(conv1D_layer1)"
   ]
  },
  {
   "cell_type": "code",
   "execution_count": 63,
   "metadata": {
    "collapsed": true
   },
   "outputs": [],
   "source": [
    "avgpooling_layer = AveragePooling1D(pool_size=3, strides=1)(conv1D_layer2)"
   ]
  },
  {
   "cell_type": "code",
   "execution_count": 64,
   "metadata": {
    "collapsed": true
   },
   "outputs": [],
   "source": [
    "flatten_layer = Flatten()(avgpooling_layer)"
   ]
  },
  {
   "cell_type": "code",
   "execution_count": 65,
   "metadata": {
    "collapsed": true
   },
   "outputs": [],
   "source": [
    "dense_layer1 = Dense(32)(avgpooling_layer)\n",
    "dense_layer2 = Dense(16)(dense_layer1)"
   ]
  },
  {
   "cell_type": "code",
   "execution_count": 66,
   "metadata": {
    "collapsed": true
   },
   "outputs": [],
   "source": [
    "dropout_layer = Dropout(0.2)(flatten_layer)\n",
    "output_layer = Dense(1, activation='linear')(dropout_layer)"
   ]
  },
  {
   "cell_type": "code",
   "execution_count": 67,
   "metadata": {},
   "outputs": [
    {
     "name": "stdout",
     "output_type": "stream",
     "text": [
      "_________________________________________________________________\n",
      "Layer (type)                 Output Shape              Param #   \n",
      "=================================================================\n",
      "input_4 (InputLayer)         (None, 7, 1)              0         \n",
      "_________________________________________________________________\n",
      "zero_padding1d_1 (ZeroPaddin (None, 9, 1)              0         \n",
      "_________________________________________________________________\n",
      "conv1d_1 (Conv1D)            (None, 7, 64)             256       \n",
      "_________________________________________________________________\n",
      "conv1d_2 (Conv1D)            (None, 5, 32)             6176      \n",
      "_________________________________________________________________\n",
      "average_pooling1d_1 (Average (None, 3, 32)             0         \n",
      "_________________________________________________________________\n",
      "flatten_2 (Flatten)          (None, 96)                0         \n",
      "_________________________________________________________________\n",
      "dropout_4 (Dropout)          (None, 96)                0         \n",
      "_________________________________________________________________\n",
      "dense_9 (Dense)              (None, 1)                 97        \n",
      "=================================================================\n",
      "Total params: 6,529\n",
      "Trainable params: 6,529\n",
      "Non-trainable params: 0\n",
      "_________________________________________________________________\n"
     ]
    }
   ],
   "source": [
    "ts_model = Model(inputs=input_layer, outputs=output_layer)\n",
    "ts_model.compile(loss='mean_absolute_error', optimizer='adam')\n",
    "ts_model.summary()"
   ]
  },
  {
   "cell_type": "code",
   "execution_count": 69,
   "metadata": {},
   "outputs": [
    {
     "name": "stdout",
     "output_type": "stream",
     "text": [
      "Train on 33089 samples, validate on 8654 samples\n",
      "Epoch 1/20\n",
      "33089/33089 [==============================] - 8s 231us/step - loss: 0.0170 - val_loss: 0.0135\n",
      "Epoch 2/20\n",
      "33089/33089 [==============================] - 8s 239us/step - loss: 0.0166 - val_loss: 0.0133\n",
      "Epoch 3/20\n",
      "33089/33089 [==============================] - 8s 228us/step - loss: 0.0166 - val_loss: 0.0157\n",
      "Epoch 4/20\n",
      "33089/33089 [==============================] - 8s 233us/step - loss: 0.0164 - val_loss: 0.0138\n",
      "Epoch 5/20\n",
      "33089/33089 [==============================] - 8s 256us/step - loss: 0.0163 - val_loss: 0.0135\n",
      "Epoch 6/20\n",
      "33089/33089 [==============================] - 9s 273us/step - loss: 0.0162 - val_loss: 0.0131\n",
      "Epoch 7/20\n",
      "33089/33089 [==============================] - 9s 262us/step - loss: 0.0161 - val_loss: 0.0139\n",
      "Epoch 8/20\n",
      "33089/33089 [==============================] - 8s 251us/step - loss: 0.0161 - val_loss: 0.0130\n",
      "Epoch 9/20\n",
      "33089/33089 [==============================] - 9s 258us/step - loss: 0.0160 - val_loss: 0.0142\n",
      "Epoch 10/20\n",
      "33089/33089 [==============================] - 8s 255us/step - loss: 0.0161 - val_loss: 0.0152\n",
      "Epoch 11/20\n",
      "33089/33089 [==============================] - 8s 242us/step - loss: 0.0161 - val_loss: 0.0134\n",
      "Epoch 12/20\n",
      "33089/33089 [==============================] - 7s 209us/step - loss: 0.0161 - val_loss: 0.0154\n",
      "Epoch 13/20\n",
      "33089/33089 [==============================] - 6s 168us/step - loss: 0.0160 - val_loss: 0.0147\n",
      "Epoch 14/20\n",
      "33089/33089 [==============================] - 5s 163us/step - loss: 0.0160 - val_loss: 0.0130\n",
      "Epoch 15/20\n",
      "33089/33089 [==============================] - 5s 165us/step - loss: 0.0161 - val_loss: 0.0131\n",
      "Epoch 16/20\n",
      "33089/33089 [==============================] - 5s 166us/step - loss: 0.0160 - val_loss: 0.0134\n",
      "Epoch 17/20\n",
      "33089/33089 [==============================] - 5s 164us/step - loss: 0.0160 - val_loss: 0.0144\n",
      "Epoch 18/20\n",
      "33089/33089 [==============================] - 5s 158us/step - loss: 0.0159 - val_loss: 0.0131\n",
      "Epoch 19/20\n",
      "33089/33089 [==============================] - 5s 157us/step - loss: 0.0159 - val_loss: 0.0130\n",
      "Epoch 20/20\n",
      "33089/33089 [==============================] - 6s 169us/step - loss: 0.0158 - val_loss: 0.0141\n"
     ]
    },
    {
     "data": {
      "text/plain": [
       "<keras.callbacks.History at 0x8fae2160>"
      ]
     },
     "execution_count": 69,
     "metadata": {},
     "output_type": "execute_result"
    }
   ],
   "source": [
    "save_weights_at = os.path.join('datasets', 'PRSA_data_2010.1.1-2014.12.31.{epoch:02d}-{val_loss:.4f}.hdf5') \n",
    "save_best = ModelCheckpoint(save_weights_at, monitor='val_loss', verbose=0,\n",
    "                            save_best_only=True, save_weights_only=False, mode='min',\n",
    "                            period=1)\n",
    "ts_model.fit(x=X_train, y=y_train, batch_size=16, epochs=20,\n",
    "             verbose=1, callbacks=[save_best], validation_data=(X_val, y_val),\n",
    "             shuffle=True)"
   ]
  },
  {
   "cell_type": "code",
   "execution_count": 70,
   "metadata": {
    "collapsed": true
   },
   "outputs": [],
   "source": [
    "best_model = load_model(os.path.join('datasets', 'PRSA_data_2010.1.1-2014.12.31.02-0.0133.hdf5'))\n",
    "preds = best_model.predict(X_val)\n",
    "pred_pm25 = scaler.inverse_transform(preds)\n",
    "pred_pm25 = np.squeeze(pred_pm25)"
   ]
  },
  {
   "cell_type": "code",
   "execution_count": 71,
   "metadata": {},
   "outputs": [
    {
     "name": "stdout",
     "output_type": "stream",
     "text": [
      "MAE for the validation set: 13.2368\n"
     ]
    }
   ],
   "source": [
    "from sklearn.metrics import mean_absolute_error\n",
    "mae = mean_absolute_error(df_val['pm2.5'].loc[7:], pred_pm25)\n",
    "print('MAE for the validation set:', round(mae, 4))"
   ]
  },
  {
   "cell_type": "code",
   "execution_count": null,
   "metadata": {
    "collapsed": true
   },
   "outputs": [],
   "source": [
    "plt.figure(figsize=(5.5, 5.5))\n",
    "plt.plot(range(50), df_val['pm2.5'].loc[7:56], linestyle='-', marker='*', color='r')\n",
    "plt.plot(range(50), pred_pm25[:50], linestyle='-', marker='.', color='b')\n",
    "plt.legend(['Actual','Predicted'], loc=2)\n",
    "plt.title('Actual vs Predicted pm2.5')\n",
    "plt.ylabel('pm2.5')\n",
    "plt.xlabel('Index')"
   ]
  }
 ],
 "metadata": {
  "kernelspec": {
   "display_name": "Python 3",
   "language": "python",
   "name": "python3"
  },
  "language_info": {
   "codemirror_mode": {
    "name": "ipython",
    "version": 3
   },
   "file_extension": ".py",
   "mimetype": "text/x-python",
   "name": "python",
   "nbconvert_exporter": "python",
   "pygments_lexer": "ipython3",
   "version": "3.6.3"
  }
 },
 "nbformat": 4,
 "nbformat_minor": 2
}
