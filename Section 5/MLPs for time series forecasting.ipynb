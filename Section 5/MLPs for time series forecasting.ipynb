{
 "cells": [
  {
   "cell_type": "code",
   "execution_count": 1,
   "metadata": {
    "collapsed": true
   },
   "outputs": [],
   "source": [
    "from __future__ import print_function\n",
    "import os\n",
    "import sys\n",
    "import pandas as pd\n",
    "import numpy as np\n",
    "%matplotlib inline\n",
    "from matplotlib import pyplot as plt\n",
    "import seaborn as sns\n",
    "import datetime"
   ]
  },
  {
   "cell_type": "code",
   "execution_count": 2,
   "metadata": {
    "collapsed": true
   },
   "outputs": [],
   "source": [
    "os.chdir('E:/Practical Time Series')"
   ]
  },
  {
   "cell_type": "code",
   "execution_count": 3,
   "metadata": {
    "collapsed": true
   },
   "outputs": [],
   "source": [
    "df = pd.read_csv('datasets/PRSA_data_2010.1.1-2014.12.31.csv')"
   ]
  },
  {
   "cell_type": "code",
   "execution_count": 4,
   "metadata": {},
   "outputs": [
    {
     "name": "stdout",
     "output_type": "stream",
     "text": [
      "Shape of the dataframe: (43824, 13)\n"
     ]
    }
   ],
   "source": [
    "print('Shape of the dataframe:', df.shape)"
   ]
  },
  {
   "cell_type": "code",
   "execution_count": 5,
   "metadata": {},
   "outputs": [
    {
     "data": {
      "text/html": [
       "<div>\n",
       "<style>\n",
       "    .dataframe thead tr:only-child th {\n",
       "        text-align: right;\n",
       "    }\n",
       "\n",
       "    .dataframe thead th {\n",
       "        text-align: left;\n",
       "    }\n",
       "\n",
       "    .dataframe tbody tr th {\n",
       "        vertical-align: top;\n",
       "    }\n",
       "</style>\n",
       "<table border=\"1\" class=\"dataframe\">\n",
       "  <thead>\n",
       "    <tr style=\"text-align: right;\">\n",
       "      <th></th>\n",
       "      <th>No</th>\n",
       "      <th>year</th>\n",
       "      <th>month</th>\n",
       "      <th>day</th>\n",
       "      <th>hour</th>\n",
       "      <th>pm2.5</th>\n",
       "      <th>DEWP</th>\n",
       "      <th>TEMP</th>\n",
       "      <th>PRES</th>\n",
       "      <th>cbwd</th>\n",
       "      <th>Iws</th>\n",
       "      <th>Is</th>\n",
       "      <th>Ir</th>\n",
       "    </tr>\n",
       "  </thead>\n",
       "  <tbody>\n",
       "    <tr>\n",
       "      <th>0</th>\n",
       "      <td>1</td>\n",
       "      <td>2010</td>\n",
       "      <td>1</td>\n",
       "      <td>1</td>\n",
       "      <td>0</td>\n",
       "      <td>NaN</td>\n",
       "      <td>-21</td>\n",
       "      <td>-11.0</td>\n",
       "      <td>1021.0</td>\n",
       "      <td>NW</td>\n",
       "      <td>1.79</td>\n",
       "      <td>0</td>\n",
       "      <td>0</td>\n",
       "    </tr>\n",
       "    <tr>\n",
       "      <th>1</th>\n",
       "      <td>2</td>\n",
       "      <td>2010</td>\n",
       "      <td>1</td>\n",
       "      <td>1</td>\n",
       "      <td>1</td>\n",
       "      <td>NaN</td>\n",
       "      <td>-21</td>\n",
       "      <td>-12.0</td>\n",
       "      <td>1020.0</td>\n",
       "      <td>NW</td>\n",
       "      <td>4.92</td>\n",
       "      <td>0</td>\n",
       "      <td>0</td>\n",
       "    </tr>\n",
       "    <tr>\n",
       "      <th>2</th>\n",
       "      <td>3</td>\n",
       "      <td>2010</td>\n",
       "      <td>1</td>\n",
       "      <td>1</td>\n",
       "      <td>2</td>\n",
       "      <td>NaN</td>\n",
       "      <td>-21</td>\n",
       "      <td>-11.0</td>\n",
       "      <td>1019.0</td>\n",
       "      <td>NW</td>\n",
       "      <td>6.71</td>\n",
       "      <td>0</td>\n",
       "      <td>0</td>\n",
       "    </tr>\n",
       "    <tr>\n",
       "      <th>3</th>\n",
       "      <td>4</td>\n",
       "      <td>2010</td>\n",
       "      <td>1</td>\n",
       "      <td>1</td>\n",
       "      <td>3</td>\n",
       "      <td>NaN</td>\n",
       "      <td>-21</td>\n",
       "      <td>-14.0</td>\n",
       "      <td>1019.0</td>\n",
       "      <td>NW</td>\n",
       "      <td>9.84</td>\n",
       "      <td>0</td>\n",
       "      <td>0</td>\n",
       "    </tr>\n",
       "    <tr>\n",
       "      <th>4</th>\n",
       "      <td>5</td>\n",
       "      <td>2010</td>\n",
       "      <td>1</td>\n",
       "      <td>1</td>\n",
       "      <td>4</td>\n",
       "      <td>NaN</td>\n",
       "      <td>-20</td>\n",
       "      <td>-12.0</td>\n",
       "      <td>1018.0</td>\n",
       "      <td>NW</td>\n",
       "      <td>12.97</td>\n",
       "      <td>0</td>\n",
       "      <td>0</td>\n",
       "    </tr>\n",
       "  </tbody>\n",
       "</table>\n",
       "</div>"
      ],
      "text/plain": [
       "   No  year  month  day  hour  pm2.5  DEWP  TEMP    PRES cbwd    Iws  Is  Ir\n",
       "0   1  2010      1    1     0    NaN   -21 -11.0  1021.0   NW   1.79   0   0\n",
       "1   2  2010      1    1     1    NaN   -21 -12.0  1020.0   NW   4.92   0   0\n",
       "2   3  2010      1    1     2    NaN   -21 -11.0  1019.0   NW   6.71   0   0\n",
       "3   4  2010      1    1     3    NaN   -21 -14.0  1019.0   NW   9.84   0   0\n",
       "4   5  2010      1    1     4    NaN   -20 -12.0  1018.0   NW  12.97   0   0"
      ]
     },
     "execution_count": 5,
     "metadata": {},
     "output_type": "execute_result"
    }
   ],
   "source": [
    "df.head()"
   ]
  },
  {
   "cell_type": "code",
   "execution_count": 6,
   "metadata": {
    "collapsed": true
   },
   "outputs": [],
   "source": [
    "df['datetime'] = df[['year', 'month', 'day', 'hour']].apply(lambda row: datetime.datetime(year=row['year'], month=row['month'], day=row['day'], \n",
    "                                                                                          hour=row['hour']), axis=1)\n",
    "df.sort_values('datetime', ascending=True, inplace=True)"
   ]
  },
  {
   "cell_type": "code",
   "execution_count": 7,
   "metadata": {},
   "outputs": [
    {
     "data": {
      "image/png": "[encoded data removed]",
      "text/plain": [
       "<matplotlib.figure.Figure at 0xb9e9b38>"
      ]
     },
     "metadata": {},
     "output_type": "display_data"
    }
   ],
   "source": [
    "plt.figure(figsize=(5.5, 5.5))\n",
    "g = sns.boxplot(df['PRES'])\n",
    "g.set_title('Box plot of Air Pressure')\n",
    "plt.savefig('plots/Section 2/_05_01.png', format='png', dpi=300)"
   ]
  },
  {
   "cell_type": "code",
   "execution_count": 8,
   "metadata": {},
   "outputs": [
    {
     "name": "stderr",
     "output_type": "stream",
     "text": [
      "C:\\ProgramData\\Anaconda3\\lib\\site-packages\\seaborn\\timeseries.py:183: UserWarning: The tsplot function is deprecated and will be removed or replaced (in a substantially altered version) in a future release.\n",
      "  warnings.warn(msg, UserWarning)\n"
     ]
    },
    {
     "data": {
      "image/png": "[encoded data removed]",
      "text/plain": [
       "<matplotlib.figure.Figure at 0xb9e9fd0>"
      ]
     },
     "metadata": {},
     "output_type": "display_data"
    }
   ],
   "source": [
    "plt.figure(figsize=(5.5, 5.5))\n",
    "g = sns.tsplot(df['PRES'])\n",
    "g.set_title('Time series of Air Pressure')\n",
    "g.set_xlabel('Index')\n",
    "g.set_ylabel('Air Pressure readings in hPa')\n",
    "plt.savefig('plots/Section 2/_05_02.png', format='png', dpi=300)"
   ]
  },
  {
   "cell_type": "code",
   "execution_count": 9,
   "metadata": {
    "collapsed": true
   },
   "outputs": [],
   "source": [
    "from sklearn.preprocessing import MinMaxScaler\n",
    "scaler = MinMaxScaler(feature_range=(0, 1))\n",
    "df['scaled_PRES'] = scaler.fit_transform(np.array(df['PRES']).reshape(-1, 1))"
   ]
  },
  {
   "cell_type": "code",
   "execution_count": 10,
   "metadata": {},
   "outputs": [
    {
     "name": "stdout",
     "output_type": "stream",
     "text": [
      "Shape of train: (35064, 15)\n",
      "Shape of test: (8760, 15)\n"
     ]
    }
   ],
   "source": [
    "split_date = datetime.datetime(year=2014, month=1, day=1, hour=0)\n",
    "df_train = df.loc[df['datetime']<split_date]\n",
    "df_val = df.loc[df['datetime']>=split_date]\n",
    "print('Shape of train:', df_train.shape)\n",
    "print('Shape of test:', df_val.shape)"
   ]
  },
  {
   "cell_type": "code",
   "execution_count": 11,
   "metadata": {},
   "outputs": [
    {
     "data": {
      "text/html": [
       "<div>\n",
       "<style>\n",
       "    .dataframe thead tr:only-child th {\n",
       "        text-align: right;\n",
       "    }\n",
       "\n",
       "    .dataframe thead th {\n",
       "        text-align: left;\n",
       "    }\n",
       "\n",
       "    .dataframe tbody tr th {\n",
       "        vertical-align: top;\n",
       "    }\n",
       "</style>\n",
       "<table border=\"1\" class=\"dataframe\">\n",
       "  <thead>\n",
       "    <tr style=\"text-align: right;\">\n",
       "      <th></th>\n",
       "      <th>No</th>\n",
       "      <th>year</th>\n",
       "      <th>month</th>\n",
       "      <th>day</th>\n",
       "      <th>hour</th>\n",
       "      <th>pm2.5</th>\n",
       "      <th>DEWP</th>\n",
       "      <th>TEMP</th>\n",
       "      <th>PRES</th>\n",
       "      <th>cbwd</th>\n",
       "      <th>Iws</th>\n",
       "      <th>Is</th>\n",
       "      <th>Ir</th>\n",
       "      <th>datetime</th>\n",
       "      <th>scaled_PRES</th>\n",
       "    </tr>\n",
       "  </thead>\n",
       "  <tbody>\n",
       "    <tr>\n",
       "      <th>0</th>\n",
       "      <td>1</td>\n",
       "      <td>2010</td>\n",
       "      <td>1</td>\n",
       "      <td>1</td>\n",
       "      <td>0</td>\n",
       "      <td>NaN</td>\n",
       "      <td>-21</td>\n",
       "      <td>-11.0</td>\n",
       "      <td>1021.0</td>\n",
       "      <td>NW</td>\n",
       "      <td>1.79</td>\n",
       "      <td>0</td>\n",
       "      <td>0</td>\n",
       "      <td>2010-01-01 00:00:00</td>\n",
       "      <td>0.545455</td>\n",
       "    </tr>\n",
       "    <tr>\n",
       "      <th>1</th>\n",
       "      <td>2</td>\n",
       "      <td>2010</td>\n",
       "      <td>1</td>\n",
       "      <td>1</td>\n",
       "      <td>1</td>\n",
       "      <td>NaN</td>\n",
       "      <td>-21</td>\n",
       "      <td>-12.0</td>\n",
       "      <td>1020.0</td>\n",
       "      <td>NW</td>\n",
       "      <td>4.92</td>\n",
       "      <td>0</td>\n",
       "      <td>0</td>\n",
       "      <td>2010-01-01 01:00:00</td>\n",
       "      <td>0.527273</td>\n",
       "    </tr>\n",
       "    <tr>\n",
       "      <th>2</th>\n",
       "      <td>3</td>\n",
       "      <td>2010</td>\n",
       "      <td>1</td>\n",
       "      <td>1</td>\n",
       "      <td>2</td>\n",
       "      <td>NaN</td>\n",
       "      <td>-21</td>\n",
       "      <td>-11.0</td>\n",
       "      <td>1019.0</td>\n",
       "      <td>NW</td>\n",
       "      <td>6.71</td>\n",
       "      <td>0</td>\n",
       "      <td>0</td>\n",
       "      <td>2010-01-01 02:00:00</td>\n",
       "      <td>0.509091</td>\n",
       "    </tr>\n",
       "    <tr>\n",
       "      <th>3</th>\n",
       "      <td>4</td>\n",
       "      <td>2010</td>\n",
       "      <td>1</td>\n",
       "      <td>1</td>\n",
       "      <td>3</td>\n",
       "      <td>NaN</td>\n",
       "      <td>-21</td>\n",
       "      <td>-14.0</td>\n",
       "      <td>1019.0</td>\n",
       "      <td>NW</td>\n",
       "      <td>9.84</td>\n",
       "      <td>0</td>\n",
       "      <td>0</td>\n",
       "      <td>2010-01-01 03:00:00</td>\n",
       "      <td>0.509091</td>\n",
       "    </tr>\n",
       "    <tr>\n",
       "      <th>4</th>\n",
       "      <td>5</td>\n",
       "      <td>2010</td>\n",
       "      <td>1</td>\n",
       "      <td>1</td>\n",
       "      <td>4</td>\n",
       "      <td>NaN</td>\n",
       "      <td>-20</td>\n",
       "      <td>-12.0</td>\n",
       "      <td>1018.0</td>\n",
       "      <td>NW</td>\n",
       "      <td>12.97</td>\n",
       "      <td>0</td>\n",
       "      <td>0</td>\n",
       "      <td>2010-01-01 04:00:00</td>\n",
       "      <td>0.490909</td>\n",
       "    </tr>\n",
       "  </tbody>\n",
       "</table>\n",
       "</div>"
      ],
      "text/plain": [
       "   No  year  month  day  hour  pm2.5  DEWP  TEMP    PRES cbwd    Iws  Is  Ir  \\\n",
       "0   1  2010      1    1     0    NaN   -21 -11.0  1021.0   NW   1.79   0   0   \n",
       "1   2  2010      1    1     1    NaN   -21 -12.0  1020.0   NW   4.92   0   0   \n",
       "2   3  2010      1    1     2    NaN   -21 -11.0  1019.0   NW   6.71   0   0   \n",
       "3   4  2010      1    1     3    NaN   -21 -14.0  1019.0   NW   9.84   0   0   \n",
       "4   5  2010      1    1     4    NaN   -20 -12.0  1018.0   NW  12.97   0   0   \n",
       "\n",
       "             datetime  scaled_PRES  \n",
       "0 2010-01-01 00:00:00     0.545455  \n",
       "1 2010-01-01 01:00:00     0.527273  \n",
       "2 2010-01-01 02:00:00     0.509091  \n",
       "3 2010-01-01 03:00:00     0.509091  \n",
       "4 2010-01-01 04:00:00     0.490909  "
      ]
     },
     "execution_count": 11,
     "metadata": {},
     "output_type": "execute_result"
    }
   ],
   "source": [
    "df_train.head()"
   ]
  },
  {
   "cell_type": "code",
   "execution_count": 12,
   "metadata": {},
   "outputs": [
    {
     "data": {
      "text/html": [
       "<div>\n",
       "<style>\n",
       "    .dataframe thead tr:only-child th {\n",
       "        text-align: right;\n",
       "    }\n",
       "\n",
       "    .dataframe thead th {\n",
       "        text-align: left;\n",
       "    }\n",
       "\n",
       "    .dataframe tbody tr th {\n",
       "        vertical-align: top;\n",
       "    }\n",
       "</style>\n",
       "<table border=\"1\" class=\"dataframe\">\n",
       "  <thead>\n",
       "    <tr style=\"text-align: right;\">\n",
       "      <th></th>\n",
       "      <th>No</th>\n",
       "      <th>year</th>\n",
       "      <th>month</th>\n",
       "      <th>day</th>\n",
       "      <th>hour</th>\n",
       "      <th>pm2.5</th>\n",
       "      <th>DEWP</th>\n",
       "      <th>TEMP</th>\n",
       "      <th>PRES</th>\n",
       "      <th>cbwd</th>\n",
       "      <th>Iws</th>\n",
       "      <th>Is</th>\n",
       "      <th>Ir</th>\n",
       "      <th>datetime</th>\n",
       "      <th>scaled_PRES</th>\n",
       "    </tr>\n",
       "  </thead>\n",
       "  <tbody>\n",
       "    <tr>\n",
       "      <th>35064</th>\n",
       "      <td>35065</td>\n",
       "      <td>2014</td>\n",
       "      <td>1</td>\n",
       "      <td>1</td>\n",
       "      <td>0</td>\n",
       "      <td>24.0</td>\n",
       "      <td>-20</td>\n",
       "      <td>7.0</td>\n",
       "      <td>1014.0</td>\n",
       "      <td>NW</td>\n",
       "      <td>143.48</td>\n",
       "      <td>0</td>\n",
       "      <td>0</td>\n",
       "      <td>2014-01-01 00:00:00</td>\n",
       "      <td>0.418182</td>\n",
       "    </tr>\n",
       "    <tr>\n",
       "      <th>35065</th>\n",
       "      <td>35066</td>\n",
       "      <td>2014</td>\n",
       "      <td>1</td>\n",
       "      <td>1</td>\n",
       "      <td>1</td>\n",
       "      <td>53.0</td>\n",
       "      <td>-20</td>\n",
       "      <td>7.0</td>\n",
       "      <td>1013.0</td>\n",
       "      <td>NW</td>\n",
       "      <td>147.50</td>\n",
       "      <td>0</td>\n",
       "      <td>0</td>\n",
       "      <td>2014-01-01 01:00:00</td>\n",
       "      <td>0.400000</td>\n",
       "    </tr>\n",
       "    <tr>\n",
       "      <th>35066</th>\n",
       "      <td>35067</td>\n",
       "      <td>2014</td>\n",
       "      <td>1</td>\n",
       "      <td>1</td>\n",
       "      <td>2</td>\n",
       "      <td>65.0</td>\n",
       "      <td>-20</td>\n",
       "      <td>6.0</td>\n",
       "      <td>1013.0</td>\n",
       "      <td>NW</td>\n",
       "      <td>151.52</td>\n",
       "      <td>0</td>\n",
       "      <td>0</td>\n",
       "      <td>2014-01-01 02:00:00</td>\n",
       "      <td>0.400000</td>\n",
       "    </tr>\n",
       "    <tr>\n",
       "      <th>35067</th>\n",
       "      <td>35068</td>\n",
       "      <td>2014</td>\n",
       "      <td>1</td>\n",
       "      <td>1</td>\n",
       "      <td>3</td>\n",
       "      <td>70.0</td>\n",
       "      <td>-20</td>\n",
       "      <td>6.0</td>\n",
       "      <td>1013.0</td>\n",
       "      <td>NW</td>\n",
       "      <td>153.31</td>\n",
       "      <td>0</td>\n",
       "      <td>0</td>\n",
       "      <td>2014-01-01 03:00:00</td>\n",
       "      <td>0.400000</td>\n",
       "    </tr>\n",
       "    <tr>\n",
       "      <th>35068</th>\n",
       "      <td>35069</td>\n",
       "      <td>2014</td>\n",
       "      <td>1</td>\n",
       "      <td>1</td>\n",
       "      <td>4</td>\n",
       "      <td>79.0</td>\n",
       "      <td>-18</td>\n",
       "      <td>3.0</td>\n",
       "      <td>1012.0</td>\n",
       "      <td>cv</td>\n",
       "      <td>0.89</td>\n",
       "      <td>0</td>\n",
       "      <td>0</td>\n",
       "      <td>2014-01-01 04:00:00</td>\n",
       "      <td>0.381818</td>\n",
       "    </tr>\n",
       "  </tbody>\n",
       "</table>\n",
       "</div>"
      ],
      "text/plain": [
       "          No  year  month  day  hour  pm2.5  DEWP  TEMP    PRES cbwd     Iws  \\\n",
       "35064  35065  2014      1    1     0   24.0   -20   7.0  1014.0   NW  143.48   \n",
       "35065  35066  2014      1    1     1   53.0   -20   7.0  1013.0   NW  147.50   \n",
       "35066  35067  2014      1    1     2   65.0   -20   6.0  1013.0   NW  151.52   \n",
       "35067  35068  2014      1    1     3   70.0   -20   6.0  1013.0   NW  153.31   \n",
       "35068  35069  2014      1    1     4   79.0   -18   3.0  1012.0   cv    0.89   \n",
       "\n",
       "       Is  Ir            datetime  scaled_PRES  \n",
       "35064   0   0 2014-01-01 00:00:00     0.418182  \n",
       "35065   0   0 2014-01-01 01:00:00     0.400000  \n",
       "35066   0   0 2014-01-01 02:00:00     0.400000  \n",
       "35067   0   0 2014-01-01 03:00:00     0.400000  \n",
       "35068   0   0 2014-01-01 04:00:00     0.381818  "
      ]
     },
     "execution_count": 12,
     "metadata": {},
     "output_type": "execute_result"
    }
   ],
   "source": [
    "df_val.head()"
   ]
  },
  {
   "cell_type": "code",
   "execution_count": 13,
   "metadata": {
    "collapsed": true
   },
   "outputs": [],
   "source": [
    "df_val.reset_index(drop=True, inplace=True)"
   ]
  },
  {
   "cell_type": "code",
   "execution_count": 14,
   "metadata": {},
   "outputs": [
    {
     "name": "stderr",
     "output_type": "stream",
     "text": [
      "C:\\ProgramData\\Anaconda3\\lib\\site-packages\\seaborn\\timeseries.py:183: UserWarning: The tsplot function is deprecated and will be removed or replaced (in a substantially altered version) in a future release.\n",
      "  warnings.warn(msg, UserWarning)\n"
     ]
    },
    {
     "data": {
      "image/png": "[encoded data removed]",
      "text/plain": [
       "<matplotlib.figure.Figure at 0xcab9ac8>"
      ]
     },
     "metadata": {},
     "output_type": "display_data"
    }
   ],
   "source": [
    "plt.figure(figsize=(5.5, 5.5))\n",
    "g = sns.tsplot(df_train['scaled_PRES'], color='b')\n",
    "g.set_title('Time series of scaled Air Pressure in train set')\n",
    "g.set_xlabel('Index')\n",
    "g.set_ylabel('Scaled Air Pressure readings')\n",
    "plt.savefig('plots/Section 2/_05_03.png', format='png', dpi=300)"
   ]
  },
  {
   "cell_type": "code",
   "execution_count": 15,
   "metadata": {},
   "outputs": [
    {
     "name": "stderr",
     "output_type": "stream",
     "text": [
      "C:\\ProgramData\\Anaconda3\\lib\\site-packages\\seaborn\\timeseries.py:183: UserWarning: The tsplot function is deprecated and will be removed or replaced (in a substantially altered version) in a future release.\n",
      "  warnings.warn(msg, UserWarning)\n"
     ]
    },
    {
     "data": {
      "image/png": "[encoded data removed]",
      "text/plain": [
       "<matplotlib.figure.Figure at 0xc3484a8>"
      ]
     },
     "metadata": {},
     "output_type": "display_data"
    }
   ],
   "source": [
    "plt.figure(figsize=(5.5, 5.5))\n",
    "g = sns.tsplot(df_val['scaled_PRES'], color='r')\n",
    "g.set_title('Time series of scaled Air Pressure in validation set')\n",
    "g.set_xlabel('Index')\n",
    "g.set_ylabel('Scaled Air Pressure readings')\n",
    "plt.savefig('plots/Section 2/_05_04.png', format='png', dpi=300)"
   ]
  },
  {
   "cell_type": "code",
   "execution_count": 16,
   "metadata": {
    "collapsed": true
   },
   "outputs": [],
   "source": [
    "def makeXy(ts, nb_timesteps):\n",
    "    \n",
    "    X = []\n",
    "    y = []\n",
    "    for i in range(nb_timesteps, ts.shape[0]):\n",
    "        X.append(list(ts.loc[i-nb_timesteps:i-1]))\n",
    "        y.append(ts.loc[i])\n",
    "    X, y = np.array(X), np.array(y)\n",
    "    return X, y"
   ]
  },
  {
   "cell_type": "code",
   "execution_count": 17,
   "metadata": {},
   "outputs": [
    {
     "name": "stdout",
     "output_type": "stream",
     "text": [
      "Shape of train arrays: (35057, 7) (35057,)\n"
     ]
    }
   ],
   "source": [
    "X_train, y_train = makeXy(df_train['scaled_PRES'], 7)\n",
    "print('Shape of train arrays:', X_train.shape, y_train.shape)"
   ]
  },
  {
   "cell_type": "code",
   "execution_count": 18,
   "metadata": {},
   "outputs": [
    {
     "name": "stdout",
     "output_type": "stream",
     "text": [
      "Shape of validation arrays: (8753, 7) (8753,)\n"
     ]
    }
   ],
   "source": [
    "X_val, y_val = makeXy(df_val['scaled_PRES'], 7)\n",
    "print('Shape of validation arrays:', X_val.shape, y_val.shape)"
   ]
  },
  {
   "cell_type": "code",
   "execution_count": 19,
   "metadata": {},
   "outputs": [
    {
     "name": "stderr",
     "output_type": "stream",
     "text": [
      "Using Theano backend.\n"
     ]
    }
   ],
   "source": [
    "from keras.layers import Dense, Input, Dropout\n",
    "from keras.optimizers import SGD\n",
    "from keras.models import Model\n",
    "from keras.models import load_model\n",
    "from keras.callbacks import ModelCheckpoint"
   ]
  },
  {
   "cell_type": "code",
   "execution_count": 20,
   "metadata": {
    "collapsed": true
   },
   "outputs": [],
   "source": [
    "input_layer = Input(shape=(7,), dtype='float32')"
   ]
  },
  {
   "cell_type": "code",
   "execution_count": 21,
   "metadata": {
    "collapsed": true
   },
   "outputs": [],
   "source": [
    "dense1 = Dense(32, activation='linear')(input_layer)\n",
    "dense2 = Dense(16, activation='linear')(dense1)\n",
    "dense3 = Dense(16, activation='linear')(dense2)"
   ]
  },
  {
   "cell_type": "code",
   "execution_count": 22,
   "metadata": {
    "collapsed": true
   },
   "outputs": [],
   "source": [
    "dropout_layer = Dropout(0.2)(dense3)"
   ]
  },
  {
   "cell_type": "code",
   "execution_count": 23,
   "metadata": {
    "collapsed": true
   },
   "outputs": [],
   "source": [
    "output_layer = Dense(1, activation='linear')(dropout_layer)"
   ]
  },
  {
   "cell_type": "code",
   "execution_count": 24,
   "metadata": {},
   "outputs": [
    {
     "name": "stdout",
     "output_type": "stream",
     "text": [
      "_________________________________________________________________\n",
      "Layer (type)                 Output Shape              Param #   \n",
      "=================================================================\n",
      "input_1 (InputLayer)         (None, 7)                 0         \n",
      "_________________________________________________________________\n",
      "dense_1 (Dense)              (None, 32)                256       \n",
      "_________________________________________________________________\n",
      "dense_2 (Dense)              (None, 16)                528       \n",
      "_________________________________________________________________\n",
      "dense_3 (Dense)              (None, 16)                272       \n",
      "_________________________________________________________________\n",
      "dropout_1 (Dropout)          (None, 16)                0         \n",
      "_________________________________________________________________\n",
      "dense_4 (Dense)              (None, 1)                 17        \n",
      "=================================================================\n",
      "Total params: 1,073\n",
      "Trainable params: 1,073\n",
      "Non-trainable params: 0\n",
      "_________________________________________________________________\n"
     ]
    }
   ],
   "source": [
    "ts_model = Model(inputs=input_layer, outputs=output_layer)\n",
    "ts_model.compile(loss='mean_squared_error', optimizer='adam')\n",
    "ts_model.summary()"
   ]
  },
  {
   "cell_type": "code",
   "execution_count": 25,
   "metadata": {},
   "outputs": [
    {
     "name": "stdout",
     "output_type": "stream",
     "text": [
      "Train on 35057 samples, validate on 8753 samples\n",
      "Epoch 1/20\n",
      "35057/35057 [==============================] - 4s 104us/step - loss: 0.0054 - val_loss: 2.8233e-04\n",
      "Epoch 2/20\n",
      "35057/35057 [==============================] - 3s 98us/step - loss: 0.0013 - val_loss: 0.0011\n",
      "Epoch 3/20\n",
      "35057/35057 [==============================] - 4s 101us/step - loss: 9.0026e-04 - val_loss: 4.2767e-04\n",
      "Epoch 4/20\n",
      "35057/35057 [==============================] - 4s 101us/step - loss: 8.3653e-04 - val_loss: 2.0213e-04\n",
      "Epoch 5/20\n",
      "35057/35057 [==============================] - 4s 101us/step - loss: 8.1383e-04 - val_loss: 1.8369e-04\n",
      "Epoch 6/20\n",
      "35057/35057 [==============================] - 4s 101us/step - loss: 8.1211e-04 - val_loss: 2.6580e-04\n",
      "Epoch 7/20\n",
      "35057/35057 [==============================] - 3s 94us/step - loss: 7.7181e-04 - val_loss: 2.3394e-04\n",
      "Epoch 8/20\n",
      "35057/35057 [==============================] - 4s 111us/step - loss: 7.6865e-04 - val_loss: 3.0904e-04\n",
      "Epoch 9/20\n",
      "35057/35057 [==============================] - 4s 101us/step - loss: 7.6963e-04 - val_loss: 1.5273e-04\n",
      "Epoch 10/20\n",
      "35057/35057 [==============================] - 4s 118us/step - loss: 7.5987e-04 - val_loss: 3.1674e-04\n",
      "Epoch 11/20\n",
      "35057/35057 [==============================] - 4s 110us/step - loss: 7.5826e-04 - val_loss: 1.7417e-04\n",
      "Epoch 12/20\n",
      "35057/35057 [==============================] - ETA: 0s - loss: 7.4907e-04- ETA: 0s - loss: 7.498 - 4s 103us/step - loss: 7.4903e-04 - val_loss: 1.6348e-04\n",
      "Epoch 13/20\n",
      "35057/35057 [==============================] - 3s 97us/step - loss: 7.4553e-04 - val_loss: 1.6648e-04\n",
      "Epoch 14/20\n",
      "35057/35057 [==============================] - 2s 62us/step - loss: 7.4525e-04 - val_loss: 1.4290e-04\n",
      "Epoch 15/20\n",
      "35057/35057 [==============================] - 4s 115us/step - loss: 7.5534e-04 - val_loss: 1.4800e-04\n",
      "Epoch 16/20\n",
      "35057/35057 [==============================] - 2s 52us/step - loss: 7.5202e-04 - val_loss: 1.5135e-04\n",
      "Epoch 17/20\n",
      "35057/35057 [==============================] - 2s 53us/step - loss: 7.3289e-04 - val_loss: 1.8911e-04\n",
      "Epoch 18/20\n",
      "35057/35057 [==============================] - 2s 55us/step - loss: 7.4437e-04 - val_loss: 1.3907e-04\n",
      "Epoch 19/20\n",
      "35057/35057 [==============================] - 2s 60us/step - loss: 7.4663e-04 - val_loss: 1.8587e-04\n",
      "Epoch 20/20\n",
      "35057/35057 [==============================] - 2s 49us/step - loss: 7.3895e-04 - val_loss: 1.8604e-04\n"
     ]
    },
    {
     "data": {
      "text/plain": [
       "<keras.callbacks.History at 0x7a8a9d30>"
      ]
     },
     "execution_count": 25,
     "metadata": {},
     "output_type": "execute_result"
    }
   ],
   "source": [
    "save_weights_at = os.path.join('datasets', 'PRSA_data_2010.1.1-2014.12.31.{epoch:02d}-{val_loss:.4f}.hdf5') \n",
    "save_best = ModelCheckpoint(save_weights_at, monitor='val_loss', verbose=0,\n",
    "                            save_best_only=True, save_weights_only=False, mode='min',\n",
    "                            period=1)\n",
    "ts_model.fit(x=X_train, y=y_train, batch_size=16, epochs=20,\n",
    "             verbose=1, callbacks=[save_best], validation_data=(X_val, y_val),\n",
    "             shuffle=True)"
   ]
  },
  {
   "cell_type": "code",
   "execution_count": 26,
   "metadata": {
    "collapsed": true
   },
   "outputs": [],
   "source": [
    "best_model = load_model(os.path.join('datasets', 'PRSA_data_2010.1.1-2014.12.31.01-0.0003.hdf5'))\n",
    "preds = best_model.predict(X_val)\n",
    "pred_PRES = scaler.inverse_transform(preds)\n",
    "pred_PRES = np.squeeze(pred_PRES)"
   ]
  },
  {
   "cell_type": "code",
   "execution_count": 27,
   "metadata": {
    "collapsed": true
   },
   "outputs": [],
   "source": [
    "from sklearn.metrics import r2_score"
   ]
  },
  {
   "cell_type": "code",
   "execution_count": 28,
   "metadata": {},
   "outputs": [
    {
     "name": "stdout",
     "output_type": "stream",
     "text": [
      "R-squared for the validation set: 0.9911\n"
     ]
    }
   ],
   "source": [
    "r2 = r2_score(df_val['PRES'].loc[7:], pred_PRES)\n",
    "print('R-squared for the validation set:', round(r2,4))"
   ]
  },
  {
   "cell_type": "code",
   "execution_count": 29,
   "metadata": {},
   "outputs": [
    {
     "data": {
      "image/png": "[encoded data removed]",
      "text/plain": [
       "<matplotlib.figure.Figure at 0x7bd9b2b0>"
      ]
     },
     "metadata": {},
     "output_type": "display_data"
    }
   ],
   "source": [
    "plt.figure(figsize=(5.5, 5.5))\n",
    "plt.plot(range(50), df_val['PRES'].loc[7:56], linestyle='-', marker='*', color='r')\n",
    "plt.plot(range(50), pred_PRES[:50], linestyle='-', marker='.', color='b')\n",
    "plt.legend(['Actual','Predicted'], loc=2)\n",
    "plt.title('Actual vs Predicted Air Pressure')\n",
    "plt.ylabel('Air Pressure')\n",
    "plt.xlabel('Index')\n",
    "plt.savefig('plots/Section 5/_05_05.png', format='png', dpi=300)"
   ]
  },
  {
   "cell_type": "code",
   "execution_count": 30,
   "metadata": {},
   "outputs": [
    {
     "data": {
      "text/plain": [
       "'\\nAir Pressure time series forecasting by LSTM\\n'"
      ]
     },
     "execution_count": 30,
     "metadata": {},
     "output_type": "execute_result"
    }
   ],
   "source": [
    "\"\"\"\n",
    "Air Pressure time series forecasting by LSTM\n",
    "\"\"\""
   ]
  },
  {
   "cell_type": "code",
   "execution_count": 31,
   "metadata": {
    "collapsed": true
   },
   "outputs": [],
   "source": [
    "from keras.layers.recurrent import LSTM"
   ]
  },
  {
   "cell_type": "code",
   "execution_count": 32,
   "metadata": {},
   "outputs": [
    {
     "name": "stdout",
     "output_type": "stream",
     "text": [
      "Shape of 3D arrays: (35057, 7, 1) (8753, 7, 1)\n"
     ]
    }
   ],
   "source": [
    "X_train, X_val = X_train.reshape((X_train.shape[0], X_train.shape[1], 1)), X_val.reshape((X_val.shape[0], X_val.shape[1], 1)) \n",
    "print('Shape of 3D arrays:', X_train.shape, X_val.shape)"
   ]
  },
  {
   "cell_type": "code",
   "execution_count": 33,
   "metadata": {
    "collapsed": true
   },
   "outputs": [],
   "source": [
    "input_layer = Input(shape=(7,1), dtype='float32')\n",
    "lstm_layer = LSTM(64, input_shape=(7,1), return_sequences=False)(input_layer)"
   ]
  },
  {
   "cell_type": "code",
   "execution_count": 34,
   "metadata": {
    "collapsed": true
   },
   "outputs": [],
   "source": [
    "dropout_layer = Dropout(0.2)(lstm_layer)\n",
    "output_layer = Dense(1, activation='linear')(dropout_layer)"
   ]
  },
  {
   "cell_type": "code",
   "execution_count": 35,
   "metadata": {},
   "outputs": [
    {
     "name": "stdout",
     "output_type": "stream",
     "text": [
      "_________________________________________________________________\n",
      "Layer (type)                 Output Shape              Param #   \n",
      "=================================================================\n",
      "input_2 (InputLayer)         (None, 7, 1)              0         \n",
      "_________________________________________________________________\n",
      "lstm_1 (LSTM)                (None, 64)                16896     \n",
      "_________________________________________________________________\n",
      "dropout_2 (Dropout)          (None, 64)                0         \n",
      "_________________________________________________________________\n",
      "dense_5 (Dense)              (None, 1)                 65        \n",
      "=================================================================\n",
      "Total params: 16,961\n",
      "Trainable params: 16,961\n",
      "Non-trainable params: 0\n",
      "_________________________________________________________________\n"
     ]
    }
   ],
   "source": [
    "ts_model = Model(inputs=input_layer, outputs=output_layer)\n",
    "ts_model.compile(loss='mean_squared_error', optimizer='adam')\n",
    "ts_model.summary()"
   ]
  },
  {
   "cell_type": "code",
   "execution_count": 36,
   "metadata": {},
   "outputs": [
    {
     "name": "stdout",
     "output_type": "stream",
     "text": [
      "Train on 35057 samples, validate on 8753 samples\n",
      "Epoch 1/20\n",
      "35057/35057 [==============================] - 63s 2ms/step - loss: 0.0027 - val_loss: 7.0340e-04\n",
      "Epoch 2/20\n",
      "35057/35057 [==============================] - 65s 2ms/step - loss: 8.8329e-04 - val_loss: 3.5916e-04\n",
      "Epoch 3/20\n",
      "35057/35057 [==============================] - 69s 2ms/step - loss: 5.3382e-04 - val_loss: 2.0543e-04\n",
      "Epoch 4/20\n",
      "35057/35057 [==============================] - 70s 2ms/step - loss: 3.7929e-04 - val_loss: 1.8109e-04\n",
      "Epoch 5/20\n",
      "35057/35057 [==============================] - 80s 2ms/step - loss: 3.4607e-04 - val_loss: 1.4559e-04\n",
      "Epoch 6/20\n",
      "35057/35057 [==============================] - 78s 2ms/step - loss: 3.2847e-04 - val_loss: 1.3931e-04\n",
      "Epoch 7/20\n",
      "35057/35057 [==============================] - 73s 2ms/step - loss: 3.1898e-04 - val_loss: 1.6837e-04\n",
      "Epoch 8/20\n",
      "35057/35057 [==============================] - 86s 2ms/step - loss: 3.1661e-04 - val_loss: 1.3714e-04\n",
      "Epoch 9/20\n",
      "35057/35057 [==============================] - 81s 2ms/step - loss: 3.0832e-04 - val_loss: 1.7109e-04\n",
      "Epoch 10/20\n",
      "35057/35057 [==============================] - 86s 2ms/step - loss: 3.0744e-04 - val_loss: 1.3625e-04\n",
      "Epoch 11/20\n",
      "35057/35057 [==============================] - 85s 2ms/step - loss: 3.0418e-04 - val_loss: 1.4392e-04\n",
      "Epoch 12/20\n",
      "35057/35057 [==============================] - 78s 2ms/step - loss: 3.1106e-04 - val_loss: 1.4484e-04\n",
      "Epoch 13/20\n",
      "35057/35057 [==============================] - 124s 4ms/step - loss: 3.0033e-04 - val_loss: 1.3515e-04\n",
      "Epoch 14/20\n",
      "35057/35057 [==============================] - 82s 2ms/step - loss: 3.0358e-04 - val_loss: 1.3125e-04\n",
      "Epoch 15/20\n",
      "35057/35057 [==============================] - 85s 2ms/step - loss: 3.0451e-04 - val_loss: 2.2003e-04\n",
      "Epoch 16/20\n",
      "35057/35057 [==============================] - 85s 2ms/step - loss: 2.9973e-04 - val_loss: 1.8148e-04\n",
      "Epoch 17/20\n",
      "35057/35057 [==============================] - 87s 2ms/step - loss: 3.0044e-04 - val_loss: 1.7857e-04\n",
      "Epoch 18/20\n",
      "35057/35057 [==============================] - 84s 2ms/step - loss: 2.9729e-04 - val_loss: 1.4171e-04\n",
      "Epoch 19/20\n",
      "35057/35057 [==============================] - 99s 3ms/step - loss: 2.9836e-04 - val_loss: 1.3279e-04\n",
      "Epoch 20/20\n",
      "35057/35057 [==============================] - 115s 3ms/step - loss: 3.0165e-04 - val_loss: 1.3085e-04\n"
     ]
    },
    {
     "data": {
      "text/plain": [
       "<keras.callbacks.History at 0x7be08b38>"
      ]
     },
     "execution_count": 36,
     "metadata": {},
     "output_type": "execute_result"
    }
   ],
   "source": [
    "save_weights_at = os.path.join('datasets', 'PRSA_data_2010.1.1-2014.12.31.{epoch:02d}-{val_loss:.4f}.hdf5') \n",
    "save_best = ModelCheckpoint(save_weights_at, monitor='val_loss', verbose=0,\n",
    "                            save_best_only=True, save_weights_only=False, mode='min',\n",
    "                            period=1)\n",
    "ts_model.fit(x=X_train, y=y_train, batch_size=16, epochs=20,\n",
    "             verbose=1, callbacks=[save_best], validation_data=(X_val, y_val),\n",
    "             shuffle=True)"
   ]
  },
  {
   "cell_type": "code",
   "execution_count": 37,
   "metadata": {
    "collapsed": true
   },
   "outputs": [],
   "source": [
    "best_model = load_model(os.path.join('datasets', 'PRSA_data_2010.1.1-2014.12.31.01-0.0005.hdf5'))\n",
    "preds = best_model.predict(X_val)\n",
    "pred_PRES = scaler.inverse_transform(preds)\n",
    "pred_PRES = np.squeeze(pred_PRES)"
   ]
  },
  {
   "cell_type": "code",
   "execution_count": 38,
   "metadata": {},
   "outputs": [
    {
     "name": "stdout",
     "output_type": "stream",
     "text": [
      "R-squared on validation set of the original air pressure: 0.983752932554\n"
     ]
    }
   ],
   "source": [
    "from sklearn.metrics import r2_score\n",
    "r2 = r2_score(df_val['PRES'].loc[7:], pred_PRES)\n",
    "print('R-squared on validation set of the original air pressure:', r2)"
   ]
  },
  {
   "cell_type": "code",
   "execution_count": 39,
   "metadata": {},
   "outputs": [
    {
     "data": {
      "text/plain": [
       "Text(0.5,0,'Index')"
      ]
     },
     "execution_count": 39,
     "metadata": {},
     "output_type": "execute_result"
    },
    {
     "data": {
      "image/png": "[encoded data removed]",
      "text/plain": [
       "<matplotlib.figure.Figure at 0x87325b38>"
      ]
     },
     "metadata": {},
     "output_type": "display_data"
    }
   ],
   "source": [
    "plt.figure(figsize=(5.5, 5.5))\n",
    "plt.plot(range(50), df_val['PRES'].loc[7:56], linestyle='-', marker='*', color='r')\n",
    "plt.plot(range(50), pred_PRES[:50], linestyle='-', marker='.', color='b')\n",
    "plt.legend(['Actual','Predicted'], loc=2)\n",
    "plt.title('Actual vs Predicted Air Pressure')\n",
    "plt.ylabel('Air Pressure')\n",
    "plt.xlabel('Index')"
   ]
  },
  {
   "cell_type": "code",
   "execution_count": 40,
   "metadata": {},
   "outputs": [
    {
     "data": {
      "text/plain": [
       "'\\nAir Pressure time series forecasting by GRU\\n'"
      ]
     },
     "execution_count": 40,
     "metadata": {},
     "output_type": "execute_result"
    }
   ],
   "source": [
    "\"\"\"\n",
    "Air Pressure time series forecasting by GRU\n",
    "\"\"\""
   ]
  },
  {
   "cell_type": "code",
   "execution_count": 41,
   "metadata": {
    "collapsed": true
   },
   "outputs": [],
   "source": [
    "from keras.layers.recurrent import GRU"
   ]
  },
  {
   "cell_type": "code",
   "execution_count": 42,
   "metadata": {},
   "outputs": [
    {
     "name": "stdout",
     "output_type": "stream",
     "text": [
      "Shape of 3D arrays: (35057, 7, 1) (8753, 7, 1)\n"
     ]
    }
   ],
   "source": [
    "X_train, X_val = X_train.reshape((X_train.shape[0], X_train.shape[1], 1)), X_val.reshape((X_val.shape[0], X_val.shape[1], 1)) \n",
    "print('Shape of 3D arrays:', X_train.shape, X_val.shape)"
   ]
  },
  {
   "cell_type": "code",
   "execution_count": 43,
   "metadata": {
    "collapsed": true
   },
   "outputs": [],
   "source": [
    "input_layer = Input(shape=(7,1), dtype='float32')\n",
    "gru_layer = GRU(64, input_shape=(7,1), return_sequences=False)(input_layer)"
   ]
  },
  {
   "cell_type": "code",
   "execution_count": 44,
   "metadata": {
    "collapsed": true
   },
   "outputs": [],
   "source": [
    "dropout_layer = Dropout(0.2)(gru_layer)\n",
    "output_layer = Dense(1, activation='linear')(dropout_layer)"
   ]
  },
  {
   "cell_type": "code",
   "execution_count": 45,
   "metadata": {},
   "outputs": [
    {
     "name": "stdout",
     "output_type": "stream",
     "text": [
      "_________________________________________________________________\n",
      "Layer (type)                 Output Shape              Param #   \n",
      "=================================================================\n",
      "input_3 (InputLayer)         (None, 7, 1)              0         \n",
      "_________________________________________________________________\n",
      "gru_1 (GRU)                  (None, 64)                12672     \n",
      "_________________________________________________________________\n",
      "dropout_3 (Dropout)          (None, 64)                0         \n",
      "_________________________________________________________________\n",
      "dense_6 (Dense)              (None, 1)                 65        \n",
      "=================================================================\n",
      "Total params: 12,737\n",
      "Trainable params: 12,737\n",
      "Non-trainable params: 0\n",
      "_________________________________________________________________\n"
     ]
    }
   ],
   "source": [
    "ts_model = Model(inputs=input_layer, outputs=output_layer)\n",
    "ts_model.compile(loss='mse', optimizer='adam')\n",
    "ts_model.summary()"
   ]
  },
  {
   "cell_type": "code",
   "execution_count": 46,
   "metadata": {},
   "outputs": [
    {
     "name": "stdout",
     "output_type": "stream",
     "text": [
      "Train on 35057 samples, validate on 8753 samples\n",
      "Epoch 1/20\n",
      "35057/35057 [==============================] - 115s 3ms/step - loss: 0.0022 - val_loss: 2.4144e-04\n",
      "Epoch 2/20\n",
      "35057/35057 [==============================] - 89s 3ms/step - loss: 6.8237e-04 - val_loss: 1.5906e-04\n",
      "Epoch 3/20\n",
      "35057/35057 [==============================] - 90s 3ms/step - loss: 4.0608e-04 - val_loss: 1.4510e-04\n",
      "Epoch 4/20\n",
      "35057/35057 [==============================] - 82s 2ms/step - loss: 3.3841e-04 - val_loss: 1.3599e-04\n",
      "Epoch 5/20\n",
      "35057/35057 [==============================] - 93s 3ms/step - loss: 3.1629e-04 - val_loss: 1.3732e-04\n",
      "Epoch 6/20\n",
      "35057/35057 [==============================] - 96s 3ms/step - loss: 3.1252e-04 - val_loss: 1.7282e-04\n",
      "Epoch 7/20\n",
      "35057/35057 [==============================] - 42s 1ms/step - loss: 3.0940e-04 - val_loss: 1.3214e-04\n",
      "Epoch 8/20\n",
      "35057/35057 [==============================] - 98s 3ms/step - loss: 3.0711e-04 - val_loss: 1.3372e-04\n",
      "Epoch 9/20\n",
      "35057/35057 [==============================] - 114s 3ms/step - loss: 3.0299e-04 - val_loss: 1.4162e-04\n",
      "Epoch 10/20\n",
      "35057/35057 [==============================] - 73s 2ms/step - loss: 3.0775e-04 - val_loss: 1.6708e-04\n",
      "Epoch 11/20\n",
      "35057/35057 [==============================] - 104s 3ms/step - loss: 3.0285e-04 - val_loss: 1.4499e-04\n",
      "Epoch 12/20\n",
      "35057/35057 [==============================] - 109s 3ms/step - loss: 3.0612e-04 - val_loss: 1.3897e-04\n",
      "Epoch 13/20\n",
      "35057/35057 [==============================] - 104s 3ms/step - loss: 2.9940e-04 - val_loss: 1.3188e-04\n",
      "Epoch 14/20\n",
      "35057/35057 [==============================] - 22s 620us/step - loss: 3.0378e-04 - val_loss: 1.3305e-04\n",
      "Epoch 15/20\n",
      "35057/35057 [==============================] - 127s 4ms/step - loss: 3.0134e-04 - val_loss: 1.3099e-04\n",
      "Epoch 16/20\n",
      "35057/35057 [==============================] - 110s 3ms/step - loss: 2.9948e-04 - val_loss: 1.5832e-04\n",
      "Epoch 17/20\n",
      "35057/35057 [==============================] - 114s 3ms/step - loss: 3.0111e-04 - val_loss: 1.4792e-04\n",
      "Epoch 18/20\n",
      "35057/35057 [==============================] - 123s 4ms/step - loss: 3.0487e-04 - val_loss: 1.6135e-04\n",
      "Epoch 19/20\n",
      "35057/35057 [==============================] - 95s 3ms/step - loss: 2.9811e-04 - val_loss: 1.3705e-04\n",
      "Epoch 20/20\n",
      "35057/35057 [==============================] - 41s 1ms/step - loss: 2.9898e-04 - val_loss: 1.4302e-04\n"
     ]
    },
    {
     "data": {
      "text/plain": [
       "<keras.callbacks.History at 0x88b4d080>"
      ]
     },
     "execution_count": 46,
     "metadata": {},
     "output_type": "execute_result"
    }
   ],
   "source": [
    "save_weights_at = os.path.join('datasets', 'PRSA_data_2010.1.1-2014.12.31.{epoch:02d}-{val_loss:.4f}.hdf5')\n",
    "save_best = ModelCheckpoint(save_weights_at, monitor='val_loss', verbose=0,\n",
    "                            save_best_only=True, save_weights_only=False, mode='min',\n",
    "                            period=1)\n",
    "ts_model.fit(x=X_train, y=y_train, batch_size=16, epochs=20,\n",
    "             verbose=1, callbacks=[save_best], validation_data=(X_val, y_val),\n",
    "             shuffle=True)"
   ]
  },
  {
   "cell_type": "code",
   "execution_count": 50,
   "metadata": {
    "collapsed": true
   },
   "outputs": [],
   "source": [
    "best_model = load_model(os.path.join('datasets', 'PRSA_data_2010.1.1-2014.12.31.03-0.0001.hdf5'))\n",
    "preds = best_model.predict(X_val)\n",
    "pred_PRES = scaler.inverse_transform(preds)\n",
    "pred_PRES = np.squeeze(pred_PRES)"
   ]
  },
  {
   "cell_type": "code",
   "execution_count": 51,
   "metadata": {},
   "outputs": [
    {
     "name": "stdout",
     "output_type": "stream",
     "text": [
      "R-squared on validation set of the original air pressure: 0.995429677578\n"
     ]
    }
   ],
   "source": [
    "from sklearn.metrics import r2_score\n",
    "r2 = r2_score(df_val['PRES'].loc[7:], pred_PRES)\n",
    "print('R-squared on validation set of the original air pressure:', r2)"
   ]
  },
  {
   "cell_type": "code",
   "execution_count": 52,
   "metadata": {},
   "outputs": [
    {
     "data": {
      "text/plain": [
       "Text(0.5,0,'Index')"
      ]
     },
     "execution_count": 52,
     "metadata": {},
     "output_type": "execute_result"
    },
    {
     "data": {
      "image/png": "[encoded data removed]",
      "text/plain": [
       "<matplotlib.figure.Figure at 0x8bec35c0>"
      ]
     },
     "metadata": {},
     "output_type": "display_data"
    }
   ],
   "source": [
    "plt.figure(figsize=(5.5, 5.5))\n",
    "plt.plot(range(50), df_val['PRES'].loc[7:56], linestyle='-', marker='*', color='r')\n",
    "plt.plot(range(50), pred_PRES[:50], linestyle='-', marker='.', color='b')\n",
    "plt.legend(['Actual','Predicted'], loc=2)\n",
    "plt.title('Actual vs Predicted Air Pressure')\n",
    "plt.ylabel('Air Pressure')\n",
    "plt.xlabel('Index')"
   ]
  },
  {
   "cell_type": "code",
   "execution_count": 57,
   "metadata": {},
   "outputs": [
    {
     "data": {
      "text/plain": [
       "'\\nAir Pressure time series forecasting by 1D Convolution\\n'"
      ]
     },
     "execution_count": 57,
     "metadata": {},
     "output_type": "execute_result"
    }
   ],
   "source": [
    "\"\"\"\n",
    "Air Pressure time series forecasting by 1D Convolution\n",
    "\"\"\""
   ]
  },
  {
   "cell_type": "code",
   "execution_count": 58,
   "metadata": {
    "collapsed": true
   },
   "outputs": [],
   "source": [
    "from keras.layers import Flatten\n",
    "from keras.layers.convolutional import ZeroPadding1D\n",
    "from keras.layers.convolutional import Conv1D\n",
    "from keras.layers.pooling import AveragePooling1D"
   ]
  },
  {
   "cell_type": "code",
   "execution_count": 59,
   "metadata": {},
   "outputs": [
    {
     "name": "stdout",
     "output_type": "stream",
     "text": [
      "Shape of arrays after reshaping: (35057, 7, 1) (8753, 7, 1)\n"
     ]
    }
   ],
   "source": [
    "X_train, X_val = X_train.reshape((X_train.shape[0], X_train.shape[1], 1)), X_val.reshape((X_val.shape[0], X_val.shape[1], 1)) \n",
    "print('Shape of arrays after reshaping:', X_train.shape, X_val.shape)"
   ]
  },
  {
   "cell_type": "code",
   "execution_count": 60,
   "metadata": {
    "collapsed": true
   },
   "outputs": [],
   "source": [
    "input_layer = Input(shape=(7,1), dtype='float32')"
   ]
  },
  {
   "cell_type": "code",
   "execution_count": 61,
   "metadata": {
    "collapsed": true
   },
   "outputs": [],
   "source": [
    "zeropadding_layer = ZeroPadding1D(padding=1)(input_layer)"
   ]
  },
  {
   "cell_type": "code",
   "execution_count": 62,
   "metadata": {
    "collapsed": true
   },
   "outputs": [],
   "source": [
    "conv1D_layer = Conv1D(64, 3, strides=1, use_bias=True)(zeropadding_layer)"
   ]
  },
  {
   "cell_type": "code",
   "execution_count": 63,
   "metadata": {
    "collapsed": true
   },
   "outputs": [],
   "source": [
    "avgpooling_layer = AveragePooling1D(pool_size=3, strides=1)(conv1D_layer)"
   ]
  },
  {
   "cell_type": "code",
   "execution_count": 64,
   "metadata": {
    "collapsed": true
   },
   "outputs": [],
   "source": [
    "flatten_layer = Flatten()(avgpooling_layer)\n",
    "dropout_layer = Dropout(0.2)(flatten_layer)\n",
    "output_layer = Dense(1, activation='linear')(dropout_layer)"
   ]
  },
  {
   "cell_type": "code",
   "execution_count": 65,
   "metadata": {},
   "outputs": [
    {
     "name": "stdout",
     "output_type": "stream",
     "text": [
      "_________________________________________________________________\n",
      "Layer (type)                 Output Shape              Param #   \n",
      "=================================================================\n",
      "input_4 (InputLayer)         (None, 7, 1)              0         \n",
      "_________________________________________________________________\n",
      "zero_padding1d_1 (ZeroPaddin (None, 9, 1)              0         \n",
      "_________________________________________________________________\n",
      "conv1d_1 (Conv1D)            (None, 7, 64)             256       \n",
      "_________________________________________________________________\n",
      "average_pooling1d_1 (Average (None, 5, 64)             0         \n",
      "_________________________________________________________________\n",
      "flatten_1 (Flatten)          (None, 320)               0         \n",
      "_________________________________________________________________\n",
      "dropout_4 (Dropout)          (None, 320)               0         \n",
      "_________________________________________________________________\n",
      "dense_7 (Dense)              (None, 1)                 321       \n",
      "=================================================================\n",
      "Total params: 577\n",
      "Trainable params: 577\n",
      "Non-trainable params: 0\n",
      "_________________________________________________________________\n"
     ]
    }
   ],
   "source": [
    "ts_model = Model(inputs=input_layer, outputs=output_layer)\n",
    "ts_model.compile(loss='mean_absolute_error', optimizer='adam')\n",
    "ts_model.summary()"
   ]
  },
  {
   "cell_type": "code",
   "execution_count": 66,
   "metadata": {},
   "outputs": [
    {
     "name": "stderr",
     "output_type": "stream",
     "text": [
      "WARNING (theano.tensor.blas): We did not found a dynamic library into the library_dir of the library we use for blas. If you use ATLAS, make sure to compile it with dynamics library.\n"
     ]
    },
    {
     "name": "stdout",
     "output_type": "stream",
     "text": [
      "Train on 35057 samples, validate on 8753 samples\n",
      "Epoch 1/20\n",
      "35057/35057 [==============================] - 6s 181us/step - loss: 0.0281 - val_loss: 0.0144\n",
      "Epoch 2/20\n",
      "35057/35057 [==============================] - 6s 181us/step - loss: 0.0177 - val_loss: 0.0109\n",
      "Epoch 3/20\n",
      "35057/35057 [==============================] - 7s 197us/step - loss: 0.0153 - val_loss: 0.0113\n",
      "Epoch 4/20\n",
      "35057/35057 [==============================] - 7s 199us/step - loss: 0.0145 - val_loss: 0.0105\n",
      "Epoch 5/20\n",
      "35057/35057 [==============================] - 8s 225us/step - loss: 0.0139 - val_loss: 0.0104\n",
      "Epoch 6/20\n",
      "35057/35057 [==============================] - 5s 134us/step - loss: 0.0138 - val_loss: 0.0108\n",
      "Epoch 7/20\n",
      "35057/35057 [==============================] - 5s 143us/step - loss: 0.0134 - val_loss: 0.0095\n",
      "Epoch 8/20\n",
      "35057/35057 [==============================] - 5s 129us/step - loss: 0.0134 - val_loss: 0.0183\n",
      "Epoch 9/20\n",
      "35057/35057 [==============================] - 5s 133us/step - loss: 0.0135 - val_loss: 0.0119\n",
      "Epoch 10/20\n",
      "35057/35057 [==============================] - 5s 131us/step - loss: 0.0132 - val_loss: 0.0095\n",
      "Epoch 11/20\n",
      "35057/35057 [==============================] - 5s 140us/step - loss: 0.0133 - val_loss: 0.0099\n",
      "Epoch 12/20\n",
      "35057/35057 [==============================] - 4s 128us/step - loss: 0.0132 - val_loss: 0.0106\n",
      "Epoch 13/20\n",
      "35057/35057 [==============================] - 5s 135us/step - loss: 0.0133 - val_loss: 0.0130\n",
      "Epoch 14/20\n",
      "35057/35057 [==============================] - 5s 133us/step - loss: 0.0130 - val_loss: 0.0098\n",
      "Epoch 15/20\n",
      "35057/35057 [==============================] - 5s 137us/step - loss: 0.0130 - val_loss: 0.0095\n",
      "Epoch 16/20\n",
      "35057/35057 [==============================] - 4s 127us/step - loss: 0.0130 - val_loss: 0.0135\n",
      "Epoch 17/20\n",
      "35057/35057 [==============================] - 5s 143us/step - loss: 0.0132 - val_loss: 0.0107\n",
      "Epoch 18/20\n",
      "35057/35057 [==============================] - 5s 132us/step - loss: 0.0128 - val_loss: 0.0099\n",
      "Epoch 19/20\n",
      "35057/35057 [==============================] - 9s 245us/step - loss: 0.0128 - val_loss: 0.0121\n",
      "Epoch 20/20\n",
      "35057/35057 [==============================] - 10s 290us/step - loss: 0.0130 - val_loss: 0.0105\n"
     ]
    },
    {
     "data": {
      "text/plain": [
       "<keras.callbacks.History at 0x8ce444e0>"
      ]
     },
     "execution_count": 66,
     "metadata": {},
     "output_type": "execute_result"
    }
   ],
   "source": [
    "save_weights_at = os.path.join('datasets', 'PRSA_data_2010.1.1-2014.12.31.{epoch:02d}-{val_loss:.4f}.hdf5') \n",
    "save_best = ModelCheckpoint(save_weights_at, monitor='val_loss', verbose=0,\n",
    "                            save_best_only=True, save_weights_only=False, mode='min',\n",
    "                            period=1)\n",
    "ts_model.fit(x=X_train, y=y_train, batch_size=16, epochs=20,\n",
    "             verbose=1, callbacks=[save_best], validation_data=(X_val, y_val),\n",
    "             shuffle=True)"
   ]
  },
  {
   "cell_type": "code",
   "execution_count": 67,
   "metadata": {
    "collapsed": true
   },
   "outputs": [],
   "source": [
    "best_model = load_model(os.path.join('datasets', 'PRSA_data_2010.1.1-2014.12.31.15-0.0095.hdf5'))\n",
    "preds = best_model.predict(X_val)\n",
    "pred_PRES = np.squeeze(scaler.inverse_transform(preds))"
   ]
  },
  {
   "cell_type": "code",
   "execution_count": 68,
   "metadata": {},
   "outputs": [
    {
     "name": "stdout",
     "output_type": "stream",
     "text": [
      "R-squared for the validation set: 0.9951\n"
     ]
    }
   ],
   "source": [
    "from sklearn.metrics import r2_score\n",
    "r2 = r2_score(df_val['PRES'].loc[7:], pred_PRES)\n",
    "print('R-squared for the validation set:', round(r2, 4))"
   ]
  },
  {
   "cell_type": "code",
   "execution_count": 69,
   "metadata": {},
   "outputs": [
    {
     "data": {
      "text/plain": [
       "Text(0.5,0,'Index')"
      ]
     },
     "execution_count": 69,
     "metadata": {},
     "output_type": "execute_result"
    },
    {
     "data": {
      "image/png": "[encoded data removed]",
      "text/plain": [
       "<matplotlib.figure.Figure at 0x8b11e048>"
      ]
     },
     "metadata": {},
     "output_type": "display_data"
    }
   ],
   "source": [
    "plt.figure(figsize=(5.5, 5.5))\n",
    "plt.plot(range(50), df_val['PRES'].loc[7:56], linestyle='-', marker='*', color='r')\n",
    "plt.plot(range(50), pred_PRES[:50], linestyle='-', marker='.', color='b')\n",
    "plt.legend(['Actual','Predicted'], loc=2)\n",
    "plt.title('Actual vs Predicted PRES')\n",
    "plt.ylabel('PRES')\n",
    "plt.xlabel('Index')"
   ]
  },
  {
   "cell_type": "code",
   "execution_count": null,
   "metadata": {
    "collapsed": true
   },
   "outputs": [],
   "source": []
  }
 ],
 "metadata": {
  "kernelspec": {
   "display_name": "Python 3",
   "language": "python",
   "name": "python3"
  },
  "language_info": {
   "codemirror_mode": {
    "name": "ipython",
    "version": 3
   },
   "file_extension": ".py",
   "mimetype": "text/x-python",
   "name": "python",
   "nbconvert_exporter": "python",
   "pygments_lexer": "ipython3",
   "version": "3.6.3"
  }
 },
 "nbformat": 4,
 "nbformat_minor": 2
}
